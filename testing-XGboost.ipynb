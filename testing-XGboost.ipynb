{
 "cells": [
  {
   "cell_type": "code",
   "execution_count": 94,
   "metadata": {},
   "outputs": [],
   "source": [
    "import sys\n",
    "sys.path.append(r'./src/')\n",
    "\n",
    "from imbalancedXGBoost import ImbalancedXGBoost\n",
    "from sklearn.metrics import accuracy_score\n",
    "import matplotlib.pyplot as plt\n",
    "import data\n",
    "import xgboost as xgb\n",
    "import pandas as pd"
   ]
  },
  {
   "cell_type": "code",
   "execution_count": 95,
   "metadata": {},
   "outputs": [],
   "source": [
    "heart_acc = []\n",
    "sonar_acc = []\n",
    "diabetes_acc = []\n",
    "pd_acc = []"
   ]
  },
  {
   "cell_type": "markdown",
   "metadata": {},
   "source": [
    "## Heart Rate ##"
   ]
  },
  {
   "cell_type": "code",
   "execution_count": 96,
   "metadata": {},
   "outputs": [],
   "source": [
    "X_heart, y_heart = data.get_heart_failure()\n",
    "X_train_heart, y_train_heart, X_test_heart, y_test_heart = data.cv_split(X=X_heart, y=y_heart, folds=5, stratified=True)[0]"
   ]
  },
  {
   "cell_type": "code",
   "execution_count": 97,
   "metadata": {},
   "outputs": [
    {
     "name": "stdout",
     "output_type": "stream",
     "text": [
      "Basic Model Accuracy: \t82.26%\n"
     ]
    }
   ],
   "source": [
    "model = xgb.XGBClassifier(n_estimators=10)\n",
    "\n",
    "model.fit(X_train_heart, y_train_heart)\n",
    "\n",
    "predictions = model.predict(X_test_heart)\n",
    "\n",
    "accuracy = accuracy_score(y_test_heart, predictions)\n",
    "\n",
    "print(f'Basic Model Accuracy: \\t{accuracy*100:.2f}%')\n",
    "\n",
    "heart_acc.append(accuracy)"
   ]
  },
  {
   "cell_type": "code",
   "execution_count": 98,
   "metadata": {},
   "outputs": [],
   "source": [
    "n_estimators = 10\n",
    "max_depth = 10 \n",
    "max_leaves = 0\n",
    "eta_learning_rate = 0.1 \n",
    "verbosity = 1\n",
    "objective = 'binary:logistic' \n",
    "booster = 'gbtree'\n",
    "gamma = 0.0\n",
    "min_child_weight = 1.0\n",
    "early_stopping_rounds = None\n",
    "eval_metric = 'logloss'\n",
    "l1_reg_alpha = 0.0\n",
    "l2_reg_lambda = 1.0\n",
    "focal_gamma = None\n",
    "weighted_alpha = None"
   ]
  },
  {
   "cell_type": "code",
   "execution_count": 99,
   "metadata": {},
   "outputs": [
    {
     "name": "stdout",
     "output_type": "stream",
     "text": [
      "Basic Model Accuracy: \t82.26%\n"
     ]
    }
   ],
   "source": [
    "base_xgb_model = ImbalancedXGBoost(n_estimators, max_depth, max_leaves, eta_learning_rate, \n",
    "                          verbosity, objective, booster, gamma, min_child_weight, \n",
    "                          early_stopping_rounds, eval_metric, l1_reg_alpha, l2_reg_lambda, \n",
    "                          focal_gamma, weighted_alpha)\n",
    "\n",
    "base_xgb_model.fit(X_train_heart, y_train_heart)\n",
    "predictions = base_xgb_model.predict(X_test_heart, y_test_heart)\n",
    "base_accuracy = accuracy_score(y_test_heart, predictions)\n",
    "print(f'Basic Model Accuracy: \\t{base_accuracy*100:.2f}%')\n",
    "\n",
    "heart_acc.append(base_accuracy)"
   ]
  },
  {
   "cell_type": "code",
   "execution_count": 100,
   "metadata": {},
   "outputs": [
    {
     "name": "stdout",
     "output_type": "stream",
     "text": [
      "Weigted Accuracy: \t42.47%\n"
     ]
    }
   ],
   "source": [
    "objective = 'weighted' \n",
    "weighted_alpha = 0.4\n",
    "weighted_xgb_model = ImbalancedXGBoost(n_estimators, max_depth, max_leaves, eta_learning_rate, \n",
    "                          verbosity, objective, booster, gamma, min_child_weight, \n",
    "                          early_stopping_rounds, eval_metric, l1_reg_alpha, l2_reg_lambda, \n",
    "                          focal_gamma, weighted_alpha)\n",
    "\n",
    "weighted_xgb_model.fit(X_train_heart, y_train_heart)\n",
    "predictions = weighted_xgb_model.predict(X_test_heart, y_test_heart)\n",
    "weighted_accuracy = accuracy_score(y_test_heart, predictions)\n",
    "print(f'Weigted Accuracy: \\t{weighted_accuracy*100:.2f}%')\n",
    "\n",
    "heart_acc.append(weighted_accuracy)"
   ]
  },
  {
   "cell_type": "code",
   "execution_count": 101,
   "metadata": {},
   "outputs": [
    {
     "name": "stdout",
     "output_type": "stream",
     "text": [
      "Focal Accuracy: \t83.33%\n"
     ]
    }
   ],
   "source": [
    "objective = 'focal' \n",
    "focal_gamma = 1.5\n",
    "focal_xgb_model = ImbalancedXGBoost(n_estimators, max_depth, max_leaves, eta_learning_rate, \n",
    "                          verbosity, objective, booster, gamma, min_child_weight, \n",
    "                          early_stopping_rounds, eval_metric, l1_reg_alpha, l2_reg_lambda, \n",
    "                          focal_gamma, weighted_alpha)\n",
    "\n",
    "focal_xgb_model.fit(X_train_heart, y_train_heart)\n",
    "predictions = focal_xgb_model.predict(X_test_heart, y_test_heart)\n",
    "focal_accuracy = accuracy_score(y_test_heart, predictions)\n",
    "print(f'Focal Accuracy: \\t{focal_accuracy*100:.2f}%')\n",
    "\n",
    "heart_acc.append(focal_accuracy)"
   ]
  },
  {
   "cell_type": "code",
   "execution_count": 102,
   "metadata": {},
   "outputs": [
    {
     "data": {
      "image/png": "[encoded data removed]",
      "text/plain": [
       "<Figure size 640x480 with 1 Axes>"
      ]
     },
     "metadata": {},
     "output_type": "display_data"
    }
   ],
   "source": [
    "\n",
    "labels = ['Library', 'Base', 'Weighted', 'Focal']\n",
    "\n",
    "heart_acc = [x * 100 for x in heart_acc]\n",
    "\n",
    "x = range(len(heart_acc))\n",
    "\n",
    "plt.bar(x, heart_acc, color='skyblue')\n",
    "plt.xlabel('Models')\n",
    "plt.ylabel('Accuracy (%)')\n",
    "plt.title('Accuracy Comparison of XGBoost Heart')\n",
    "\n",
    "plt.xticks(x, labels)\n",
    "plt.show()\n"
   ]
  },
  {
   "cell_type": "markdown",
   "metadata": {},
   "source": [
    "## Sonar Mine ##"
   ]
  },
  {
   "cell_type": "code",
   "execution_count": 103,
   "metadata": {},
   "outputs": [
    {
     "name": "stderr",
     "output_type": "stream",
     "text": [
      "/Users/alexnemecek/Desktop/Machine Learning/csds440project-f23-4/ajn98-boosting/data.py:55: Warning: If there are no headers in the file, then this function assumes that the labels are in the final column and everything before is data. Please verify that your dataset takes this form before moving forward.\n",
      "  warnings.warn(\"If there are no headers in the file, then this function assumes that the labels are in the final column and everything before is data. Please verify that your dataset takes this form before moving forward.\", Warning)\n"
     ]
    }
   ],
   "source": [
    "X_sonar, y_sonar = data.get_sonar_mines()\n",
    "X_train_sonar, y_train_sonar, X_test_sonar, y_test_sonar = data.cv_split(X=X_sonar, y=y_sonar, folds=5, stratified=True)[0]"
   ]
  },
  {
   "cell_type": "code",
   "execution_count": 104,
   "metadata": {},
   "outputs": [
    {
     "name": "stdout",
     "output_type": "stream",
     "text": [
      "Basic Model Accuracy: \t70.45%\n"
     ]
    }
   ],
   "source": [
    "model = xgb.XGBClassifier(n_estimators=10)\n",
    "\n",
    "model.fit(X_train_sonar, y_train_sonar)\n",
    "\n",
    "predictions = model.predict(X_test_sonar)\n",
    "\n",
    "accuracy = accuracy_score(y_test_sonar, predictions)\n",
    "\n",
    "print(f'Basic Model Accuracy: \\t{accuracy*100:.2f}%')\n",
    "\n",
    "sonar_acc.append(accuracy)"
   ]
  },
  {
   "cell_type": "code",
   "execution_count": 105,
   "metadata": {},
   "outputs": [],
   "source": [
    "n_estimators = 10\n",
    "max_depth = 10 \n",
    "max_leaves = 0\n",
    "eta_learning_rate = 0.1 \n",
    "verbosity = 1\n",
    "objective = 'binary:logistic' \n",
    "booster = 'gbtree'\n",
    "gamma = 0.0\n",
    "min_child_weight = 1.0\n",
    "early_stopping_rounds = None\n",
    "eval_metric = 'logloss'\n",
    "l1_reg_alpha = 0.0\n",
    "l2_reg_lambda = 1.0\n",
    "focal_gamma = None\n",
    "weighted_alpha = None"
   ]
  },
  {
   "cell_type": "code",
   "execution_count": 106,
   "metadata": {},
   "outputs": [
    {
     "name": "stdout",
     "output_type": "stream",
     "text": [
      "Basic Model Accuracy: \t61.36%\n"
     ]
    }
   ],
   "source": [
    "base_xgb_model = ImbalancedXGBoost(n_estimators, max_depth, max_leaves, eta_learning_rate, \n",
    "                          verbosity, objective, booster, gamma, min_child_weight, \n",
    "                          early_stopping_rounds, eval_metric, l1_reg_alpha, l2_reg_lambda, \n",
    "                          focal_gamma, weighted_alpha)\n",
    "\n",
    "base_xgb_model.fit(X_train_sonar, y_train_sonar)\n",
    "predictions = base_xgb_model.predict(X_test_sonar, y_test_sonar)\n",
    "base_accuracy = accuracy_score(y_test_sonar, predictions)\n",
    "print(f'Basic Model Accuracy: \\t{base_accuracy*100:.2f}%')\n",
    "\n",
    "sonar_acc.append(base_accuracy)"
   ]
  },
  {
   "cell_type": "code",
   "execution_count": 107,
   "metadata": {},
   "outputs": [
    {
     "name": "stdout",
     "output_type": "stream",
     "text": [
      "Weigted Accuracy: \t40.91%\n"
     ]
    }
   ],
   "source": [
    "objective = 'weighted' \n",
    "weighted_alpha = 0.4\n",
    "weighted_xgb_model = ImbalancedXGBoost(n_estimators, max_depth, max_leaves, eta_learning_rate, \n",
    "                          verbosity, objective, booster, gamma, min_child_weight, \n",
    "                          early_stopping_rounds, eval_metric, l1_reg_alpha, l2_reg_lambda, \n",
    "                          focal_gamma, weighted_alpha)\n",
    "\n",
    "weighted_xgb_model.fit(X_train_sonar, y_train_sonar)\n",
    "predictions = weighted_xgb_model.predict(X_test_sonar, y_test_sonar)\n",
    "weighted_accuracy = accuracy_score(y_test_sonar, predictions)\n",
    "print(f'Weigted Accuracy: \\t{weighted_accuracy*100:.2f}%')\n",
    "\n",
    "sonar_acc.append(weighted_accuracy)"
   ]
  },
  {
   "cell_type": "code",
   "execution_count": 108,
   "metadata": {},
   "outputs": [
    {
     "name": "stdout",
     "output_type": "stream",
     "text": [
      "Focal Accuracy: \t59.09%\n"
     ]
    }
   ],
   "source": [
    "objective = 'focal' \n",
    "focal_gamma = 1.5\n",
    "focal_xgb_model = ImbalancedXGBoost(n_estimators, max_depth, max_leaves, eta_learning_rate, \n",
    "                          verbosity, objective, booster, gamma, min_child_weight, \n",
    "                          early_stopping_rounds, eval_metric, l1_reg_alpha, l2_reg_lambda, \n",
    "                          focal_gamma, weighted_alpha)\n",
    "\n",
    "focal_xgb_model.fit(X_train_sonar, y_train_sonar)\n",
    "predictions = focal_xgb_model.predict(X_test_sonar, y_test_sonar)\n",
    "focal_accuracy = accuracy_score(y_test_sonar, predictions)\n",
    "print(f'Focal Accuracy: \\t{focal_accuracy*100:.2f}%')\n",
    "\n",
    "sonar_acc.append(focal_accuracy)"
   ]
  },
  {
   "cell_type": "code",
   "execution_count": 109,
   "metadata": {},
   "outputs": [
    {
     "data": {
      "image/png": "[encoded data removed]",
      "text/plain": [
       "<Figure size 640x480 with 1 Axes>"
      ]
     },
     "metadata": {},
     "output_type": "display_data"
    }
   ],
   "source": [
    "# labels = ['Base', 'Weighted', 'Focal']\n",
    "sonar_acc = [x * 100 for x in sonar_acc]\n",
    "\n",
    "x = range(len(sonar_acc))\n",
    "\n",
    "plt.bar(x, sonar_acc, color='skyblue')\n",
    "plt.xlabel('Models')\n",
    "plt.ylabel('Accuracy (%)')\n",
    "plt.title('Accuracy Comparison of XGBoost Sonar')\n",
    "\n",
    "plt.xticks(x, labels)\n",
    "plt.show()"
   ]
  },
  {
   "cell_type": "markdown",
   "metadata": {},
   "source": [
    "## Pima Diabetes ##"
   ]
  },
  {
   "cell_type": "code",
   "execution_count": 110,
   "metadata": {},
   "outputs": [],
   "source": [
    "X_diabetes, y_diabetes = data.get_pima_diabetes()\n",
    "X_train_diabetes, y_train_diabetes, X_test_diabetes, y_test_diabetes = data.cv_split(X=X_diabetes, y=y_diabetes, folds=5, stratified=True)[0]"
   ]
  },
  {
   "cell_type": "code",
   "execution_count": 111,
   "metadata": {},
   "outputs": [
    {
     "name": "stdout",
     "output_type": "stream",
     "text": [
      "Basic Model Accuracy: \t77.56%\n"
     ]
    }
   ],
   "source": [
    "model = xgb.XGBClassifier(n_estimators=10)\n",
    "\n",
    "model.fit(X_train_diabetes, y_train_diabetes)\n",
    "\n",
    "predictions = model.predict(X_test_diabetes)\n",
    "\n",
    "accuracy = accuracy_score(y_test_diabetes, predictions)\n",
    "\n",
    "print(f'Basic Model Accuracy: \\t{accuracy*100:.2f}%')\n",
    "\n",
    "diabetes_acc.append(accuracy)"
   ]
  },
  {
   "cell_type": "code",
   "execution_count": 112,
   "metadata": {},
   "outputs": [],
   "source": [
    "n_estimators = 10\n",
    "max_depth = 10 \n",
    "max_leaves = 0\n",
    "eta_learning_rate = 0.1 \n",
    "verbosity = 1\n",
    "objective = 'binary:logistic' \n",
    "booster = 'gbtree'\n",
    "gamma = 0.0\n",
    "min_child_weight = 1.0\n",
    "early_stopping_rounds = None\n",
    "eval_metric = 'logloss'\n",
    "l1_reg_alpha = 0.0\n",
    "l2_reg_lambda = 1.0\n",
    "focal_gamma = None\n",
    "weighted_alpha = None"
   ]
  },
  {
   "cell_type": "code",
   "execution_count": 113,
   "metadata": {},
   "outputs": [
    {
     "name": "stdout",
     "output_type": "stream",
     "text": [
      "Basic Model Accuracy: \t71.79%\n"
     ]
    }
   ],
   "source": [
    "base_xgb_model = ImbalancedXGBoost(n_estimators, max_depth, max_leaves, eta_learning_rate, \n",
    "                          verbosity, objective, booster, gamma, min_child_weight, \n",
    "                          early_stopping_rounds, eval_metric, l1_reg_alpha, l2_reg_lambda, \n",
    "                          focal_gamma, weighted_alpha)\n",
    "\n",
    "base_xgb_model.fit(X_train_diabetes, y_train_diabetes)\n",
    "predictions = base_xgb_model.predict(X_test_diabetes, y_test_diabetes)\n",
    "base_accuracy = accuracy_score(y_test_diabetes, predictions)\n",
    "print(f'Basic Model Accuracy: \\t{base_accuracy*100:.2f}%')\n",
    "\n",
    "diabetes_acc.append(base_accuracy)"
   ]
  },
  {
   "cell_type": "code",
   "execution_count": 114,
   "metadata": {},
   "outputs": [
    {
     "name": "stdout",
     "output_type": "stream",
     "text": [
      "Weigted Accuracy: \t21.15%\n"
     ]
    }
   ],
   "source": [
    "objective = 'weighted' \n",
    "weighted_alpha = 0.4\n",
    "weighted_xgb_model = ImbalancedXGBoost(n_estimators, max_depth, max_leaves, eta_learning_rate, \n",
    "                          verbosity, objective, booster, gamma, min_child_weight, \n",
    "                          early_stopping_rounds, eval_metric, l1_reg_alpha, l2_reg_lambda, \n",
    "                          focal_gamma, weighted_alpha)\n",
    "\n",
    "weighted_xgb_model.fit(X_train_diabetes, y_train_diabetes)\n",
    "predictions = weighted_xgb_model.predict(X_test_diabetes, y_test_diabetes)\n",
    "weighted_accuracy = accuracy_score(y_test_diabetes, predictions)\n",
    "print(f'Weigted Accuracy: \\t{weighted_accuracy*100:.2f}%')\n",
    "\n",
    "diabetes_acc.append(weighted_accuracy)"
   ]
  },
  {
   "cell_type": "code",
   "execution_count": 115,
   "metadata": {},
   "outputs": [
    {
     "name": "stdout",
     "output_type": "stream",
     "text": [
      "Focal Accuracy: \t75.64%\n"
     ]
    }
   ],
   "source": [
    "objective = 'focal' \n",
    "focal_gamma = 1.5\n",
    "focal_xgb_model = ImbalancedXGBoost(n_estimators, max_depth, max_leaves, eta_learning_rate, \n",
    "                          verbosity, objective, booster, gamma, min_child_weight, \n",
    "                          early_stopping_rounds, eval_metric, l1_reg_alpha, l2_reg_lambda, \n",
    "                          focal_gamma, weighted_alpha)\n",
    "\n",
    "focal_xgb_model.fit(X_train_diabetes, y_train_diabetes)\n",
    "predictions = focal_xgb_model.predict(X_test_diabetes, y_test_diabetes)\n",
    "focal_accuracy = accuracy_score(y_test_diabetes, predictions)\n",
    "print(f'Focal Accuracy: \\t{focal_accuracy*100:.2f}%')\n",
    "\n",
    "diabetes_acc.append(focal_accuracy)"
   ]
  },
  {
   "cell_type": "code",
   "execution_count": 116,
   "metadata": {},
   "outputs": [
    {
     "data": {
      "image/png": "[encoded data removed]",
      "text/plain": [
       "<Figure size 640x480 with 1 Axes>"
      ]
     },
     "metadata": {},
     "output_type": "display_data"
    }
   ],
   "source": [
    "labels = ['Library','Base', 'Weighted', 'Focal']\n",
    "diabetes_acc = [x * 100 for x in diabetes_acc]\n",
    "\n",
    "x = range(len(diabetes_acc))\n",
    "\n",
    "plt.bar(x, diabetes_acc, color='skyblue')\n",
    "plt.xlabel('Models')\n",
    "plt.ylabel('Accuracy (%)')\n",
    "plt.title('Accuracy Comparison of XGBoost Diabetes')\n",
    "\n",
    "plt.xticks(x, labels)\n",
    "plt.show()"
   ]
  },
  {
   "cell_type": "code",
   "execution_count": 118,
   "metadata": {},
   "outputs": [
    {
     "data": {
      "image/png": "[encoded data removed]",
      "text/plain": [
       "<Figure size 640x480 with 1 Axes>"
      ]
     },
     "metadata": {},
     "output_type": "display_data"
    }
   ],
   "source": [
    "labels = ['Library','Base', 'Weighted', 'Focal']\n",
    "acc = [87.50, 86.18, 52.63, 78.29]\n",
    "x = range(len(acc))\n",
    "\n",
    "plt.bar(x, acc, color='skyblue')\n",
    "plt.xlabel('Models')\n",
    "plt.ylabel('Accuracy (%)')\n",
    "plt.title('Accuracy Comparison of XGBoost Parkinson')\n",
    "\n",
    "plt.xticks(x, labels)\n",
    "plt.show()"
   ]
  }
 ],
 "metadata": {
  "kernelspec": {
   "display_name": "Python 3",
   "language": "python",
   "name": "python3"
  },
  "language_info": {
   "codemirror_mode": {
    "name": "ipython",
    "version": 3
   },
   "file_extension": ".py",
   "mimetype": "text/x-python",
   "name": "python",
   "nbconvert_exporter": "python",
   "pygments_lexer": "ipython3",
   "version": "3.11.4"
  }
 },
 "nbformat": 4,
 "nbformat_minor": 2
}
