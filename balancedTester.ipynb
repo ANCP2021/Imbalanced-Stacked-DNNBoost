{
 "cells": [
  {
   "cell_type": "code",
   "execution_count": 1,
   "metadata": {},
   "outputs": [],
   "source": [
    "import sys\n",
    "sys.path.append(r'./src/')\n",
    "\n",
    "import pandas as pd\n",
    "import xgboost as xgb\n",
    "import matplotlib.pyplot as plt\n",
    "import seaborn as sns\n",
    "import data\n",
    "import numpy as np\n",
    "\n",
    "from imbalancedXGBoost import ImbalancedXGBoost\n",
    "from sklearn.model_selection import train_test_split\n",
    "from sklearn.metrics import accuracy_score, precision_score, recall_score, f1_score\n"
   ]
  },
  {
   "cell_type": "code",
   "execution_count": 2,
   "metadata": {},
   "outputs": [
    {
     "name": "stdout",
     "output_type": "stream",
     "text": [
      "The type of 'X' is:  <class 'numpy.ndarray'>\n",
      "The length of 'X' is:  918\n",
      "The shape of 'X' is:  (918, 11)\n",
      "The type of the first 'X' entry is:  <class 'numpy.ndarray'>\n",
      "The type of the first 'X[0]' entry is:  <class 'numpy.float64'>\n",
      "'X':  [[40.   0.   0.  ...  0.   0.   0. ]\n",
      " [49.   1.   1.  ...  0.   1.   1. ]\n",
      " [37.   0.   0.  ...  0.   0.   0. ]\n",
      " ...\n",
      " [57.   0.   2.  ...  1.   1.2  1. ]\n",
      " [57.   1.   0.  ...  0.   0.   1. ]\n",
      " [38.   0.   1.  ...  0.   0.   0. ]]\n",
      "*******************************************\n",
      "The type of 'y' is:  <class 'numpy.ndarray'>\n",
      "The length of 'y' is:  918\n",
      "The shape of 'y' is:  (918,)\n",
      "The type of the first 'y' entry is:  <class 'numpy.int64'>\n",
      "'y':  [0 1 0 1 0 0 0 0 1 0 0 1 0 1 0 0 1 0 1 1 0 0 0 1 0 0 0 0 0 0 1 0 1 1 0 0 1\n",
      " 0 0 0 0 1 0 0 1 0 0 0 0 1 1 1 0 0 0 0 1 1 0 1 0 0 0 1 0 0 0 0 1 0 1 0 1 0\n",
      " 1 0 1 0 0 1 0 0 1 0 1 1 1 0 1 0 0 0 0 1 0 1 0 0 0 0 1 0 1 1 1 0 0 0 0 0 0\n",
      " 1 0 0 0 1 1 1 0 1 1 0 0 1 0 0 0 0 0 0 0 1 1 1 0 1 0 0 1 1 1 1 1 0 1 0 0 0\n",
      " 0 1 0 0 0 0 0 1 1 0 1 0 1 1 0 0 0 1 1 0 0 0 0 0 0 0 1 1 1 0 0 0 1 0 1 0 0\n",
      " 1 0 1 0 1 0 0 0 0 0 0 0 0 1 0 0 0 0 0 0 0 0 1 0 1 1 1 0 0 1 0 1 0 0 0 1 1\n",
      " 0 0 0 1 0 1 0 0 0 0 0 0 0 0 1 1 1 1 0 1 1 0 1 0 1 1 1 1 1 1 0 0 1 0 0 0 0\n",
      " 0 0 0 1 1 1 0 1 0 1 0 0 0 1 0 0 0 1 1 0 0 0 1 0 0 0 0 0 0 0 0 0 0 0 1 1 1\n",
      " 1 1 1 1 1 0 1 1 1 1 1 0 1 1 0 1 1 1 0 1 1 1 1 1 1 1 1 1 1 1 0 1 1 1 1 1 0\n",
      " 1 1 1 0 1 1 1 1 1 1 1 1 1 1 1 1 1 1 1 1 1 1 1 1 1 1 1 1 1 1 1 0 1 1 1 1 1\n",
      " 1 1 1 1 1 1 1 1 1 1 1 1 1 1 1 1 1 1 1 1 1 1 1 1 1 1 1 1 1 1 1 1 1 1 1 1 1\n",
      " 1 1 1 1 1 1 1 1 1 1 0 1 1 0 0 1 0 1 1 0 1 1 1 1 0 1 1 0 0 1 1 1 0 1 1 1 1\n",
      " 1 1 1 1 1 1 1 1 1 0 1 0 1 1 1 0 1 1 1 0 1 0 1 0 1 0 1 1 1 1 0 1 0 1 1 1 1\n",
      " 1 1 1 1 1 0 1 0 1 1 1 1 1 1 1 0 1 1 1 1 1 1 0 1 1 1 0 1 1 0 1 0 1 1 0 1 1\n",
      " 1 1 0 1 1 1 0 0 1 0 1 1 1 1 1 1 1 1 1 1 1 0 1 1 1 1 0 0 1 1 1 0 1 0 1 1 0\n",
      " 1 0 1 1 1 0 0 0 1 1 1 0 1 1 1 1 1 1 1 1 1 1 1 1 1 1 1 1 0 1 1 1 0 1 1 0 0\n",
      " 1 1 1 1 1 0 1 1 0 1 1 1 0 0 1 1 1 1 1 0 1 0 1 1 0 1 0 0 0 1 1 1 1 0 0 0 1\n",
      " 0 0 1 1 0 0 1 0 0 0 0 0 0 0 1 0 1 0 0 1 1 1 1 1 0 0 1 0 0 0 1 0 1 1 1 1 1\n",
      " 0 0 0 0 0 1 0 1 1 0 1 0 0 0 1 0 1 0 1 1 0 0 0 0 1 0 0 0 0 1 1 1 0 0 0 0 0\n",
      " 0 1 0 1 1 1 1 1 0 1 0 0 0 1 0 1 1 1 0 1 1 0 1 0 1 0 0 0 1 1 0 1 1 1 1 0 0\n",
      " 0 1 0 0 1 1 1 0 1 0 0 0 1 0 0 1 0 1 0 1 1 1 1 1 0 0 0 0 0 0 0 1 0 0 1 1 1\n",
      " 0 1 0 0 0 0 0 1 0 1 1 0 0 1 1 1 1 0 0 1 1 0 0 0 1 0 0 1 0 1 0 1 0 0 0 0 0\n",
      " 1 0 1 1 1 1 0 0 0 1 0 1 0 0 1 0 0 0 0 0 0 1 1 0 1 0 0 1 1 0 0 1 1 0 1 0 1\n",
      " 0 1 0 0 1 0 0 1 0 1 1 0 1 1 1 0 1 0 0 0 0 1 1 0 0 1 1 0 1 0 0 0 0 1 0 0 1\n",
      " 1 1 0 0 0 1 0 1 0 1 0 1 1 1 0 0 0 1 0 1 1 1 0 1 1 1 1 1 1 0]\n"
     ]
    },
    {
     "data": {
      "image/png": "[encoded data removed]",
      "text/plain": [
       "<Figure size 600x400 with 1 Axes>"
      ]
     },
     "metadata": {},
     "output_type": "display_data"
    }
   ],
   "source": [
    "X, y = data.get_heart_failure()\n",
    "\n",
    "# Looking into the type, length, and shape of the data for a better understanding\n",
    "# Explain X\n",
    "print(\"The type of 'X' is: \", type(X))\n",
    "print(\"The length of 'X' is: \", len(X))\n",
    "print(\"The shape of 'X' is: \", X.shape)\n",
    "print(\"The type of the first 'X' entry is: \", type(X[0]))\n",
    "print(\"The type of the first 'X[0]' entry is: \", type(X[0][0]))\n",
    "print(\"'X': \", X)\n",
    "print(\"*******************************************\")\n",
    "# Explain y\n",
    "print(\"The type of 'y' is: \", type(y))\n",
    "print(\"The length of 'y' is: \", len(y))\n",
    "print(\"The shape of 'y' is: \", y.shape)\n",
    "print(\"The type of the first 'y' entry is: \", type(y[0]))\n",
    "print(\"'y': \", y)\n",
    "\n",
    "# Understanding how skewed the data is if at all\n",
    "plt.figure(figsize=(6, 4))\n",
    "sns.countplot(x=y)\n",
    "plt.title('Distribution of Binary Labels')\n",
    "plt.xlabel('Labels')\n",
    "plt.ylabel('Count')\n",
    "plt.show()"
   ]
  },
  {
   "cell_type": "code",
   "execution_count": 3,
   "metadata": {},
   "outputs": [],
   "source": [
    "X_train, X_test, y_train, y_test = train_test_split(X, y, test_size=0.2, random_state=42)"
   ]
  },
  {
   "cell_type": "code",
   "execution_count": 4,
   "metadata": {},
   "outputs": [
    {
     "name": "stdout",
     "output_type": "stream",
     "text": [
      "Basic Model Accuracy: \t88.59%\n",
      "Basic Model Precision: \t90.57%\n",
      "Basic Model Recall: \t89.72%\n",
      "Basic Model F1: \t90.14%\n"
     ]
    }
   ],
   "source": [
    "model = xgb.XGBClassifier(n_estimators=10)\n",
    "\n",
    "model.fit(X_train, y_train)\n",
    "\n",
    "predictions = model.predict(X_test)\n",
    "\n",
    "\n",
    "accuracy = accuracy_score(y_test, predictions)\n",
    "precision = precision_score(y_test, predictions)\n",
    "recall = recall_score(y_test, predictions)\n",
    "f1 = f1_score(y_test, predictions)\n",
    "\n",
    "\n",
    "print(f'Basic Model Accuracy: \\t{accuracy*100:.2f}%')\n",
    "print(f'Basic Model Precision: \\t{precision*100:.2f}%')\n",
    "print(f'Basic Model Recall: \\t{recall*100:.2f}%')\n",
    "print(f'Basic Model F1: \\t{f1*100:.2f}%')"
   ]
  },
  {
   "cell_type": "code",
   "execution_count": 5,
   "metadata": {},
   "outputs": [
    {
     "name": "stdout",
     "output_type": "stream",
     "text": [
      "My Basic Implementation Accuracy: \t87.50%\n",
      "My Basic Implementation Precision: \t88.89%\n",
      "My Basic Implementation Recall: \t89.72%\n",
      "My Basic Implementation F1: \t89.30%\n"
     ]
    }
   ],
   "source": [
    "n_estimators = 10\n",
    "max_depth = 10 \n",
    "max_leaves = 0\n",
    "eta_learning_rate = 0.1 \n",
    "verbosity = 1\n",
    "objective = 'binary:logistic' \n",
    "booster = 'gbtree'\n",
    "gamma = 0.0\n",
    "min_child_weight = 1.0\n",
    "early_stopping_rounds = None\n",
    "eval_metric = 'logloss'\n",
    "l1_reg_alpha = 0.0\n",
    "l2_reg_lambda = 1.0\n",
    "focal_gamma = None\n",
    "weighted_alpha = None\n",
    "\n",
    "model = ImbalancedXGBoost(n_estimators, max_depth, max_leaves, eta_learning_rate, \n",
    "                          verbosity, objective, booster, gamma, min_child_weight, \n",
    "                          early_stopping_rounds, eval_metric, l1_reg_alpha, l2_reg_lambda, \n",
    "                          focal_gamma, weighted_alpha)\n",
    "\n",
    "model.fit(X_train, y_train)\n",
    "predictions = model.predict(X_test, y_test)\n",
    "\n",
    "\n",
    "accuracy = accuracy_score(y_test, predictions)\n",
    "precision = precision_score(y_test, predictions)\n",
    "recall = recall_score(y_test, predictions)\n",
    "f1 = f1_score(y_test, predictions)\n",
    "\n",
    "\n",
    "print(f'My Basic Implementation Accuracy: \\t{accuracy*100:.2f}%')\n",
    "print(f'My Basic Implementation Precision: \\t{precision*100:.2f}%')\n",
    "print(f'My Basic Implementation Recall: \\t{recall*100:.2f}%')\n",
    "print(f'My Basic Implementation F1: \\t{f1*100:.2f}%')"
   ]
  },
  {
   "cell_type": "code",
   "execution_count": 6,
   "metadata": {},
   "outputs": [
    {
     "name": "stdout",
     "output_type": "stream",
     "text": [
      "Weighted Accuracy: \t38.04%\n"
     ]
    }
   ],
   "source": [
    "objective = 'weighted' \n",
    "weighted_alpha = 0.4\n",
    "\n",
    "model = ImbalancedXGBoost(n_estimators, max_depth, max_leaves, eta_learning_rate, \n",
    "                          verbosity, objective, booster, gamma, min_child_weight, \n",
    "                          early_stopping_rounds, eval_metric, l1_reg_alpha, l2_reg_lambda, \n",
    "                          focal_gamma, weighted_alpha)\n",
    "\n",
    "model.fit(X_train, y_train)\n",
    "predictions = model.predict(X_test, y_test)\n",
    "\n",
    "accuracy = accuracy_score(y_test, predictions)\n",
    "\n",
    "print(f'Weighted Accuracy: \\t{accuracy*100:.2f}%')"
   ]
  },
  {
   "cell_type": "code",
   "execution_count": 7,
   "metadata": {},
   "outputs": [
    {
     "name": "stdout",
     "output_type": "stream",
     "text": [
      "focal Accuracy: \t82.07%\n"
     ]
    }
   ],
   "source": [
    "objective = 'focal' \n",
    "focal_gamma = 1.5\n",
    "\n",
    "model = ImbalancedXGBoost(n_estimators, max_depth, max_leaves, eta_learning_rate, \n",
    "                          verbosity, objective, booster, gamma, min_child_weight, \n",
    "                          early_stopping_rounds, eval_metric, l1_reg_alpha, l2_reg_lambda, \n",
    "                          focal_gamma, weighted_alpha)\n",
    "\n",
    "model.fit(X_train, y_train)\n",
    "predictions = model.predict(X_test, y_test)\n",
    "accuracy = accuracy_score(y_test, predictions)\\\n",
    "\n",
    "print(f'focal Accuracy: \\t{accuracy*100:.2f}%')"
   ]
  },
  {
   "cell_type": "code",
   "execution_count": 8,
   "metadata": {},
   "outputs": [
    {
     "name": "stdout",
     "output_type": "stream",
     "text": [
      "The type of 'X' is:  <class 'numpy.ndarray'>\n",
      "The length of 'X' is:  208\n",
      "The shape of 'X' is:  (208, 60)\n",
      "The type of the first 'X' entry is:  <class 'numpy.ndarray'>\n",
      "The type of the first 'X[0]' entry is:  <class 'numpy.float64'>\n",
      "'X':  [[0.02   0.0371 0.0428 ... 0.0084 0.009  0.0032]\n",
      " [0.0453 0.0523 0.0843 ... 0.0049 0.0052 0.0044]\n",
      " [0.0262 0.0582 0.1099 ... 0.0164 0.0095 0.0078]\n",
      " ...\n",
      " [0.0522 0.0437 0.018  ... 0.0138 0.0077 0.0031]\n",
      " [0.0303 0.0353 0.049  ... 0.0079 0.0036 0.0048]\n",
      " [0.026  0.0363 0.0136 ... 0.0036 0.0061 0.0115]]\n",
      "*******************************************\n",
      "The type of 'y' is:  <class 'numpy.ndarray'>\n",
      "The length of 'y' is:  208\n",
      "The shape of 'y' is:  (208,)\n",
      "The type of the first 'y' entry is:  <class 'numpy.int64'>\n",
      "'y':  [0 0 0 0 0 0 0 0 0 0 0 0 0 0 0 0 0 0 0 0 0 0 0 0 0 0 0 0 0 0 0 0 0 0 0 0 0\n",
      " 0 0 0 0 0 0 0 0 0 0 0 0 0 0 0 0 0 0 0 0 0 0 0 0 0 0 0 0 0 0 0 0 0 0 0 0 0\n",
      " 0 0 0 0 0 0 0 0 0 0 0 0 0 0 0 0 0 0 0 0 0 0 0 1 1 1 1 1 1 1 1 1 1 1 1 1 1\n",
      " 1 1 1 1 1 1 1 1 1 1 1 1 1 1 1 1 1 1 1 1 1 1 1 1 1 1 1 1 1 1 1 1 1 1 1 1 1\n",
      " 1 1 1 1 1 1 1 1 1 1 1 1 1 1 1 1 1 1 1 1 1 1 1 1 1 1 1 1 1 1 1 1 1 1 1 1 1\n",
      " 1 1 1 1 1 1 1 1 1 1 1 1 1 1 1 1 1 1 1 1 1 1 1]\n"
     ]
    },
    {
     "name": "stderr",
     "output_type": "stream",
     "text": [
      "/Users/alexnemecek/Desktop/Machine Learning/csds440project-f23-4/ajn98-boosting/data.py:55: Warning: If there are no headers in the file, then this function assumes that the labels are in the final column and everything before is data. Please verify that your dataset takes this form before moving forward.\n",
      "  warnings.warn(\"If there are no headers in the file, then this function assumes that the labels are in the final column and everything before is data. Please verify that your dataset takes this form before moving forward.\", Warning)\n"
     ]
    },
    {
     "data": {
      "image/png": "[encoded data removed]",
      "text/plain": [
       "<Figure size 600x400 with 1 Axes>"
      ]
     },
     "metadata": {},
     "output_type": "display_data"
    }
   ],
   "source": [
    "X, y = data.get_sonar_mines()\n",
    "\n",
    "# Looking into the type, length, and shape of the data for a better understanding\n",
    "# Explain X\n",
    "print(\"The type of 'X' is: \", type(X))\n",
    "print(\"The length of 'X' is: \", len(X))\n",
    "print(\"The shape of 'X' is: \", X.shape)\n",
    "print(\"The type of the first 'X' entry is: \", type(X[0]))\n",
    "print(\"The type of the first 'X[0]' entry is: \", type(X[0][0]))\n",
    "print(\"'X': \", X)\n",
    "print(\"*******************************************\")\n",
    "# Explain y\n",
    "print(\"The type of 'y' is: \", type(y))\n",
    "print(\"The length of 'y' is: \", len(y))\n",
    "print(\"The shape of 'y' is: \", y.shape)\n",
    "print(\"The type of the first 'y' entry is: \", type(y[0]))\n",
    "print(\"'y': \", y)\n",
    "\n",
    "# Understanding how skewed the data is if at all\n",
    "plt.figure(figsize=(6, 4))\n",
    "sns.countplot(x=y)\n",
    "plt.title('Distribution of Binary Labels')\n",
    "plt.xlabel('Labels')\n",
    "plt.ylabel('Count')\n",
    "plt.show()"
   ]
  },
  {
   "cell_type": "code",
   "execution_count": 9,
   "metadata": {},
   "outputs": [],
   "source": [
    "X_train, X_test, y_train, y_test = train_test_split(X, y, test_size=0.2, random_state=42)"
   ]
  },
  {
   "cell_type": "code",
   "execution_count": 10,
   "metadata": {},
   "outputs": [
    {
     "name": "stdout",
     "output_type": "stream",
     "text": [
      "Basic Model Accuracy: \t78.57%\n",
      "Basic Model Precision: \t86.96%\n",
      "Basic Model Recall: \t76.92%\n",
      "Basic Model F1: \t81.63%\n"
     ]
    }
   ],
   "source": [
    "model = xgb.XGBClassifier(n_estimators=10)\n",
    "\n",
    "model.fit(X_train, y_train)\n",
    "\n",
    "predictions = model.predict(X_test)\n",
    "\n",
    "\n",
    "accuracy = accuracy_score(y_test, predictions)\n",
    "precision = precision_score(y_test, predictions)\n",
    "recall = recall_score(y_test, predictions)\n",
    "f1 = f1_score(y_test, predictions)\n",
    "\n",
    "\n",
    "print(f'Basic Model Accuracy: \\t{accuracy*100:.2f}%')\n",
    "print(f'Basic Model Precision: \\t{precision*100:.2f}%')\n",
    "print(f'Basic Model Recall: \\t{recall*100:.2f}%')\n",
    "print(f'Basic Model F1: \\t{f1*100:.2f}%')"
   ]
  },
  {
   "cell_type": "code",
   "execution_count": 11,
   "metadata": {},
   "outputs": [
    {
     "name": "stdout",
     "output_type": "stream",
     "text": [
      "My Basic Implementation Accuracy: \t78.57%\n",
      "My Basic Implementation Precision: \t86.96%\n",
      "My Basic Implementation Recall: \t76.92%\n",
      "My Basic Implementation F1: \t81.63%\n"
     ]
    }
   ],
   "source": [
    "n_estimators = 10\n",
    "max_depth = 10 \n",
    "max_leaves = 0\n",
    "eta_learning_rate = 0.1 \n",
    "verbosity = 1\n",
    "objective = 'binary:logistic' \n",
    "booster = 'gbtree'\n",
    "gamma = 0.0\n",
    "min_child_weight = 1.0\n",
    "early_stopping_rounds = None\n",
    "eval_metric = 'logloss'\n",
    "l1_reg_alpha = 0.0\n",
    "l2_reg_lambda = 1.0\n",
    "focal_gamma = None\n",
    "weighted_alpha = None\n",
    "\n",
    "model = ImbalancedXGBoost(n_estimators, max_depth, max_leaves, eta_learning_rate, \n",
    "                          verbosity, objective, booster, gamma, min_child_weight, \n",
    "                          early_stopping_rounds, eval_metric, l1_reg_alpha, l2_reg_lambda, \n",
    "                          focal_gamma, weighted_alpha)\n",
    "\n",
    "model.fit(X_train, y_train)\n",
    "predictions = model.predict(X_test, y_test)\n",
    "\n",
    "\n",
    "accuracy = accuracy_score(y_test, predictions)\n",
    "precision = precision_score(y_test, predictions)\n",
    "recall = recall_score(y_test, predictions)\n",
    "f1 = f1_score(y_test, predictions)\n",
    "\n",
    "\n",
    "print(f'My Basic Implementation Accuracy: \\t{accuracy*100:.2f}%')\n",
    "print(f'My Basic Implementation Precision: \\t{precision*100:.2f}%')\n",
    "print(f'My Basic Implementation Recall: \\t{recall*100:.2f}%')\n",
    "print(f'My Basic Implementation F1: \\t{f1*100:.2f}%')"
   ]
  },
  {
   "cell_type": "code",
   "execution_count": 12,
   "metadata": {},
   "outputs": [
    {
     "name": "stdout",
     "output_type": "stream",
     "text": [
      "Weighted Accuracy: \t45.24%\n"
     ]
    }
   ],
   "source": [
    "objective = 'weighted' \n",
    "weighted_alpha = 0.4\n",
    "\n",
    "model = ImbalancedXGBoost(n_estimators, max_depth, max_leaves, eta_learning_rate, \n",
    "                          verbosity, objective, booster, gamma, min_child_weight, \n",
    "                          early_stopping_rounds, eval_metric, l1_reg_alpha, l2_reg_lambda, \n",
    "                          focal_gamma, weighted_alpha)\n",
    "\n",
    "model.fit(X_train, y_train)\n",
    "predictions = model.predict(X_test, y_test)\n",
    "\n",
    "accuracy = accuracy_score(y_test, predictions)\n",
    "\n",
    "print(f'Weighted Accuracy: \\t{accuracy*100:.2f}%')"
   ]
  },
  {
   "cell_type": "code",
   "execution_count": 13,
   "metadata": {},
   "outputs": [
    {
     "name": "stdout",
     "output_type": "stream",
     "text": [
      "focal Accuracy: \t69.05%\n"
     ]
    }
   ],
   "source": [
    "objective = 'focal' \n",
    "focal_gamma = 1.5\n",
    "\n",
    "model = ImbalancedXGBoost(n_estimators, max_depth, max_leaves, eta_learning_rate, \n",
    "                          verbosity, objective, booster, gamma, min_child_weight, \n",
    "                          early_stopping_rounds, eval_metric, l1_reg_alpha, l2_reg_lambda, \n",
    "                          focal_gamma, weighted_alpha)\n",
    "\n",
    "model.fit(X_train, y_train)\n",
    "predictions = model.predict(X_test, y_test)\n",
    "accuracy = accuracy_score(y_test, predictions)\n",
    "\n",
    "print(f'focal Accuracy: \\t{accuracy*100:.2f}%')"
   ]
  },
  {
   "cell_type": "code",
   "execution_count": 14,
   "metadata": {},
   "outputs": [
    {
     "name": "stdout",
     "output_type": "stream",
     "text": [
      "The type of 'X' is:  <class 'numpy.ndarray'>\n",
      "The length of 'X' is:  768\n",
      "The shape of 'X' is:  (768, 8)\n",
      "The type of the first 'X' entry is:  <class 'numpy.ndarray'>\n",
      "The type of the first 'X[0]' entry is:  <class 'numpy.float64'>\n",
      "'X':  [[  6.    148.     72.    ...  33.6     0.627  50.   ]\n",
      " [  1.     85.     66.    ...  26.6     0.351  31.   ]\n",
      " [  8.    183.     64.    ...  23.3     0.672  32.   ]\n",
      " ...\n",
      " [  5.    121.     72.    ...  26.2     0.245  30.   ]\n",
      " [  1.    126.     60.    ...  30.1     0.349  47.   ]\n",
      " [  1.     93.     70.    ...  30.4     0.315  23.   ]]\n",
      "*******************************************\n",
      "The type of 'y' is:  <class 'numpy.ndarray'>\n",
      "The length of 'y' is:  768\n",
      "The shape of 'y' is:  (768,)\n",
      "The type of the first 'y' entry is:  <class 'numpy.int64'>\n",
      "'y':  [1 0 1 0 1 0 1 0 1 1 0 1 0 1 1 1 1 1 0 1 0 0 1 1 1 1 1 0 0 0 0 1 0 0 0 0 0\n",
      " 1 1 1 0 0 0 1 0 1 0 0 1 0 0 0 0 1 0 0 1 0 0 0 0 1 0 0 1 0 1 0 0 0 1 0 1 0\n",
      " 0 0 0 0 1 0 0 0 0 0 1 0 0 0 1 0 0 0 0 1 0 0 0 0 0 1 1 0 0 0 0 0 0 0 0 1 1\n",
      " 1 0 0 1 1 1 0 0 0 1 0 0 0 1 1 0 0 1 1 1 1 1 0 0 0 0 0 0 0 0 0 0 1 0 0 0 0\n",
      " 0 0 0 0 1 0 1 1 0 0 0 1 0 0 0 0 1 1 0 0 0 0 1 1 0 0 0 1 0 1 0 1 0 0 0 0 0\n",
      " 1 1 1 1 1 0 0 1 1 0 1 0 1 1 1 0 0 0 0 0 0 1 1 0 1 0 0 0 1 1 1 1 0 1 1 1 1\n",
      " 0 0 0 0 0 1 0 0 1 1 0 0 0 1 1 1 1 0 0 0 1 1 0 1 0 0 0 0 0 0 0 0 1 1 0 0 0\n",
      " 1 0 1 0 0 1 0 1 0 0 1 1 0 0 0 0 0 1 0 0 0 1 0 0 1 1 0 0 1 0 0 0 1 1 1 0 0\n",
      " 1 0 1 0 1 1 0 1 0 0 1 0 1 1 0 0 1 0 1 0 0 1 0 1 0 1 1 1 0 0 1 0 1 0 0 0 1\n",
      " 0 0 0 0 1 1 1 0 0 0 0 0 0 0 0 0 1 0 0 0 0 0 1 1 1 0 1 1 0 0 1 0 0 1 0 0 1\n",
      " 1 0 0 0 0 1 0 0 1 0 0 0 0 0 0 0 1 1 1 0 0 1 0 0 1 0 0 1 0 1 1 0 1 0 1 0 1\n",
      " 0 1 1 0 0 0 0 1 1 0 1 0 1 0 0 0 0 1 1 0 1 0 1 0 0 0 0 0 1 0 0 0 0 1 0 0 1\n",
      " 1 1 0 0 1 0 0 1 0 0 0 1 0 0 1 0 0 0 0 0 0 0 0 0 1 0 0 0 0 0 0 0 1 0 0 0 1\n",
      " 0 0 0 1 1 0 0 0 0 0 0 0 1 0 0 0 0 1 0 0 0 1 0 0 0 1 0 0 0 1 0 0 0 0 1 1 0\n",
      " 0 0 0 0 0 1 0 0 0 0 0 0 0 0 0 0 0 1 0 0 0 1 1 1 1 0 0 1 1 0 0 0 0 0 0 0 0\n",
      " 0 0 0 0 0 1 1 0 0 0 0 0 0 0 1 0 0 0 0 0 0 0 1 0 1 1 0 0 0 1 0 1 0 1 0 1 0\n",
      " 1 0 0 1 0 0 1 0 0 0 0 1 1 0 1 0 0 0 0 1 1 0 1 0 0 0 1 1 0 0 0 0 0 0 0 0 0\n",
      " 0 1 0 0 0 0 1 0 0 1 0 0 0 1 0 0 0 1 1 1 0 0 0 0 0 0 1 0 0 0 1 0 1 1 1 1 0\n",
      " 1 1 0 0 0 0 0 0 0 1 1 0 1 0 0 1 0 1 0 0 0 0 0 1 0 1 0 1 0 1 1 0 0 0 0 1 1\n",
      " 0 0 0 1 0 1 1 0 0 1 0 0 1 1 0 0 1 0 0 1 0 0 0 0 0 0 0 1 1 1 0 0 0 0 0 0 1\n",
      " 1 0 0 1 0 0 1 0 1 1 1 0 0 1 1 1 0 1 0 1 0 1 0 0 0 0 1 0]\n"
     ]
    },
    {
     "data": {
      "image/png": "[encoded data removed]",
      "text/plain": [
       "<Figure size 600x400 with 1 Axes>"
      ]
     },
     "metadata": {},
     "output_type": "display_data"
    }
   ],
   "source": [
    "X, y = data.get_pima_diabetes()\n",
    "\n",
    "# Looking into the type, length, and shape of the data for a better understanding\n",
    "# Explain X\n",
    "print(\"The type of 'X' is: \", type(X))\n",
    "print(\"The length of 'X' is: \", len(X))\n",
    "print(\"The shape of 'X' is: \", X.shape)\n",
    "print(\"The type of the first 'X' entry is: \", type(X[0]))\n",
    "print(\"The type of the first 'X[0]' entry is: \", type(X[0][0]))\n",
    "print(\"'X': \", X)\n",
    "print(\"*******************************************\")\n",
    "# Explain y\n",
    "print(\"The type of 'y' is: \", type(y))\n",
    "print(\"The length of 'y' is: \", len(y))\n",
    "print(\"The shape of 'y' is: \", y.shape)\n",
    "print(\"The type of the first 'y' entry is: \", type(y[0]))\n",
    "print(\"'y': \", y)\n",
    "\n",
    "# Understanding how skewed the data is if at all\n",
    "plt.figure(figsize=(6, 4))\n",
    "sns.countplot(x=y)\n",
    "plt.title('Distribution of Binary Labels')\n",
    "plt.xlabel('Labels')\n",
    "plt.ylabel('Count')\n",
    "plt.show()"
   ]
  },
  {
   "cell_type": "code",
   "execution_count": 15,
   "metadata": {},
   "outputs": [],
   "source": [
    "X_train, X_test, y_train, y_test = train_test_split(X, y, test_size=0.2, random_state=42)"
   ]
  },
  {
   "cell_type": "code",
   "execution_count": 16,
   "metadata": {},
   "outputs": [
    {
     "name": "stdout",
     "output_type": "stream",
     "text": [
      "Basic Model Accuracy: \t73.38%\n",
      "Basic Model Precision: \t62.50%\n",
      "Basic Model Recall: \t63.64%\n",
      "Basic Model F1: \t63.06%\n"
     ]
    }
   ],
   "source": [
    "model = xgb.XGBClassifier(n_estimators=10)\n",
    "\n",
    "model.fit(X_train, y_train)\n",
    "\n",
    "predictions = model.predict(X_test)\n",
    "\n",
    "\n",
    "accuracy = accuracy_score(y_test, predictions)\n",
    "precision = precision_score(y_test, predictions)\n",
    "recall = recall_score(y_test, predictions)\n",
    "f1 = f1_score(y_test, predictions)\n",
    "\n",
    "\n",
    "print(f'Basic Model Accuracy: \\t{accuracy*100:.2f}%')\n",
    "print(f'Basic Model Precision: \\t{precision*100:.2f}%')\n",
    "print(f'Basic Model Recall: \\t{recall*100:.2f}%')\n",
    "print(f'Basic Model F1: \\t{f1*100:.2f}%')"
   ]
  },
  {
   "cell_type": "code",
   "execution_count": 17,
   "metadata": {},
   "outputs": [
    {
     "name": "stdout",
     "output_type": "stream",
     "text": [
      "My Basic Implementation Accuracy: \t72.73%\n",
      "My Basic Implementation Precision: \t62.75%\n",
      "My Basic Implementation Recall: \t58.18%\n",
      "My Basic Implementation F1: \t60.38%\n"
     ]
    }
   ],
   "source": [
    "n_estimators = 10\n",
    "max_depth = 10 \n",
    "max_leaves = 0\n",
    "eta_learning_rate = 0.1 \n",
    "verbosity = 1\n",
    "objective = 'binary:logistic' \n",
    "booster = 'gbtree'\n",
    "gamma = 0.0\n",
    "min_child_weight = 1.0\n",
    "early_stopping_rounds = None\n",
    "eval_metric = 'logloss'\n",
    "l1_reg_alpha = 0.0\n",
    "l2_reg_lambda = 1.0\n",
    "focal_gamma = None\n",
    "weighted_alpha = None\n",
    "\n",
    "model = ImbalancedXGBoost(n_estimators, max_depth, max_leaves, eta_learning_rate, \n",
    "                          verbosity, objective, booster, gamma, min_child_weight, \n",
    "                          early_stopping_rounds, eval_metric, l1_reg_alpha, l2_reg_lambda, \n",
    "                          focal_gamma, weighted_alpha)\n",
    "\n",
    "model.fit(X_train, y_train)\n",
    "predictions = model.predict(X_test, y_test)\n",
    "\n",
    "\n",
    "accuracy = accuracy_score(y_test, predictions)\n",
    "precision = precision_score(y_test, predictions)\n",
    "recall = recall_score(y_test, predictions)\n",
    "f1 = f1_score(y_test, predictions)\n",
    "\n",
    "\n",
    "print(f'My Basic Implementation Accuracy: \\t{accuracy*100:.2f}%')\n",
    "print(f'My Basic Implementation Precision: \\t{precision*100:.2f}%')\n",
    "print(f'My Basic Implementation Recall: \\t{recall*100:.2f}%')\n",
    "print(f'My Basic Implementation F1: \\t{f1*100:.2f}%')"
   ]
  },
  {
   "cell_type": "code",
   "execution_count": 18,
   "metadata": {},
   "outputs": [
    {
     "name": "stdout",
     "output_type": "stream",
     "text": [
      "Weighted Accuracy: \t27.92%\n"
     ]
    }
   ],
   "source": [
    "objective = 'weighted' \n",
    "weighted_alpha = 0.4\n",
    "\n",
    "model = ImbalancedXGBoost(n_estimators, max_depth, max_leaves, eta_learning_rate, \n",
    "                          verbosity, objective, booster, gamma, min_child_weight, \n",
    "                          early_stopping_rounds, eval_metric, l1_reg_alpha, l2_reg_lambda, \n",
    "                          focal_gamma, weighted_alpha)\n",
    "\n",
    "model.fit(X_train, y_train)\n",
    "predictions = model.predict(X_test, y_test)\n",
    "\n",
    "accuracy = accuracy_score(y_test, predictions)\n",
    "\n",
    "print(f'Weighted Accuracy: \\t{accuracy*100:.2f}%')"
   ]
  },
  {
   "cell_type": "code",
   "execution_count": 19,
   "metadata": {},
   "outputs": [
    {
     "name": "stdout",
     "output_type": "stream",
     "text": [
      "focal Accuracy: \t72.73%\n"
     ]
    }
   ],
   "source": [
    "objective = 'focal' \n",
    "focal_gamma = 1.5\n",
    "\n",
    "model = ImbalancedXGBoost(n_estimators, max_depth, max_leaves, eta_learning_rate, \n",
    "                          verbosity, objective, booster, gamma, min_child_weight, \n",
    "                          early_stopping_rounds, eval_metric, l1_reg_alpha, l2_reg_lambda, \n",
    "                          focal_gamma, weighted_alpha)\n",
    "\n",
    "model.fit(X_train, y_train)\n",
    "predictions = model.predict(X_test, y_test)\n",
    "accuracy = accuracy_score(y_test, predictions)\\\n",
    "\n",
    "print(f'focal Accuracy: \\t{accuracy*100:.2f}%')"
   ]
  }
 ],
 "metadata": {
  "kernelspec": {
   "display_name": "Python 3",
   "language": "python",
   "name": "python3"
  },
  "language_info": {
   "codemirror_mode": {
    "name": "ipython",
    "version": 3
   },
   "file_extension": ".py",
   "mimetype": "text/x-python",
   "name": "python",
   "nbconvert_exporter": "python",
   "pygments_lexer": "ipython3",
   "version": "3.11.4"
  }
 },
 "nbformat": 4,
 "nbformat_minor": 2
}
