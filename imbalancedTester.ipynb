{
 "cells": [
  {
   "cell_type": "code",
   "execution_count": 8,
   "metadata": {},
   "outputs": [],
   "source": [
    "import sys\n",
    "sys.path.append(r'./src/')\n",
    "\n",
    "import pandas as pd\n",
    "import xgboost as xgb\n",
    "import matplotlib.pyplot as plt\n",
    "import seaborn as sns\n",
    "\n",
    "from imbalancedXGBoost import ImbalancedXGBoost\n",
    "from sklearn.preprocessing import StandardScaler\n",
    "from sklearn.model_selection import train_test_split\n",
    "from sklearn.metrics import accuracy_score\n",
    "from sklearn.metrics import accuracy_score, precision_score, recall_score, f1_score\n",
    "\n"
   ]
  },
  {
   "cell_type": "code",
   "execution_count": 9,
   "metadata": {},
   "outputs": [
    {
     "name": "stdout",
     "output_type": "stream",
     "text": [
      "The type of 'X' is:  <class 'numpy.ndarray'>\n",
      "The length of 'X' is:  756\n",
      "The shape of 'X' is:  (756, 754)\n",
      "The type of the first 'X' entry is:  <class 'numpy.ndarray'>\n",
      "The type of the first 'X[0]' entry is:  <class 'numpy.float64'>\n",
      "'X':  [[-1.72519117  0.96874225  0.62764391 ... -0.775137   -0.81472704\n",
      "  -0.36659507]\n",
      " [-1.72519117  0.96874225  0.12161952 ... -0.52664699 -0.58297219\n",
      "   0.40039616]\n",
      " [-1.72519117  0.96874225  0.61795018 ... -0.75606253 -0.8043897\n",
      "  -0.7809355 ]\n",
      " ...\n",
      " [ 1.72519117 -1.03226633  0.81336154 ... -0.71674252 -0.79017671\n",
      "  -0.77287314]\n",
      " [ 1.72519117 -1.03226633  0.54105055 ... -0.77132466 -0.82631929\n",
      "  -0.81173208]\n",
      " [ 1.72519117 -1.03226633  0.3945807  ... -0.68658105 -0.84098293\n",
      "  -0.82811405]]\n",
      "*******************************************\n",
      "The type of 'y' is:  <class 'pandas.core.series.Series'>\n",
      "The length of 'y' is:  756\n",
      "The shape of 'y' is:  (756,)\n",
      "The type of the first 'y' entry is:  <class 'numpy.int64'>\n",
      "'y':  0      1\n",
      "1      1\n",
      "2      1\n",
      "3      1\n",
      "4      1\n",
      "      ..\n",
      "751    0\n",
      "752    0\n",
      "753    0\n",
      "754    0\n",
      "755    0\n",
      "Name: class, Length: 756, dtype: int64\n"
     ]
    },
    {
     "data": {
      "image/png": "[encoded data removed]",
      "text/plain": [
       "<Figure size 600x400 with 1 Axes>"
      ]
     },
     "metadata": {},
     "output_type": "display_data"
    }
   ],
   "source": [
    "# Dataset is used in original paper\n",
    "df = pd.read_csv(\"./../../440-project-data/parkinson/pd_speech_features.csv\")\n",
    "\n",
    "X = df.iloc[:,:754]\n",
    "y = df['class']\n",
    "\n",
    "S = StandardScaler()\n",
    "X = S.fit_transform(X)\n",
    "\n",
    "# Looking into the type, length, and shape of the data for a better understanding\n",
    "# Explain X\n",
    "print(\"The type of 'X' is: \", type(X))\n",
    "print(\"The length of 'X' is: \", len(X))\n",
    "print(\"The shape of 'X' is: \", X.shape)\n",
    "print(\"The type of the first 'X' entry is: \", type(X[0]))\n",
    "print(\"The type of the first 'X[0]' entry is: \", type(X[0][0]))\n",
    "print(\"'X': \", X)\n",
    "print(\"*******************************************\")\n",
    "# Explain y\n",
    "print(\"The type of 'y' is: \", type(y))\n",
    "print(\"The length of 'y' is: \", len(y))\n",
    "print(\"The shape of 'y' is: \", y.shape)\n",
    "print(\"The type of the first 'y' entry is: \", type(y[0]))\n",
    "print(\"'y': \", y)\n",
    "\n",
    "# Understanding how skewed the data is if at all\n",
    "plt.figure(figsize=(6, 4))\n",
    "sns.countplot(x=y)\n",
    "plt.title('Distribution of Binary Labels')\n",
    "plt.xlabel('Labels')\n",
    "plt.ylabel('Count')\n",
    "plt.show()"
   ]
  },
  {
   "cell_type": "code",
   "execution_count": 10,
   "metadata": {},
   "outputs": [],
   "source": [
    "X_train, X_test, y_train, y_test = train_test_split(X, y, test_size=0.2, random_state=42)"
   ]
  },
  {
   "cell_type": "code",
   "execution_count": 11,
   "metadata": {},
   "outputs": [
    {
     "name": "stdout",
     "output_type": "stream",
     "text": [
      "Basic Model Accuracy: \t87.50%\n",
      "Basic Model Precision: \t88.00%\n",
      "Basic Model Recall: \t96.49%\n",
      "Basic Model F1: \t92.05%\n"
     ]
    }
   ],
   "source": [
    "model = xgb.XGBClassifier(n_estimators=10)\n",
    "\n",
    "model.fit(X_train, y_train)\n",
    "\n",
    "predictions = model.predict(X_test)\n",
    "\n",
    "accuracy = accuracy_score(y_test, predictions)\n",
    "precision = precision_score(y_test, predictions)\n",
    "recall = recall_score(y_test, predictions)\n",
    "f1 = f1_score(y_test, predictions)\n",
    "\n",
    "\n",
    "print(f'Basic Model Accuracy: \\t{accuracy*100:.2f}%')\n",
    "print(f'Basic Model Precision: \\t{precision*100:.2f}%')\n",
    "print(f'Basic Model Recall: \\t{recall*100:.2f}%')\n",
    "print(f'Basic Model F1: \\t{f1*100:.2f}%')\n"
   ]
  },
  {
   "cell_type": "code",
   "execution_count": 12,
   "metadata": {},
   "outputs": [
    {
     "name": "stdout",
     "output_type": "stream",
     "text": [
      "My Basic Implementation Accuracy: \t86.18%\n",
      "My Basic Implementation Precision: \t85.50%\n",
      "My Basic Implementation Recall: \t98.25%\n",
      "My Basic Implementation F1: \t91.43%\n"
     ]
    }
   ],
   "source": [
    "n_estimators = 10\n",
    "max_depth = 10 \n",
    "max_leaves = 0\n",
    "eta_learning_rate = 0.1 \n",
    "verbosity = 1\n",
    "objective = 'binary:logistic' \n",
    "booster = 'gbtree'\n",
    "gamma = 0.0\n",
    "min_child_weight = 1.0\n",
    "early_stopping_rounds = None\n",
    "eval_metric = 'logloss'\n",
    "l1_reg_alpha = 0.0\n",
    "l2_reg_lambda = 1.0\n",
    "focal_gamma = None\n",
    "weighted_alpha = None\n",
    "\n",
    "model = ImbalancedXGBoost(n_estimators, max_depth, max_leaves, eta_learning_rate, \n",
    "                          verbosity, objective, booster, gamma, min_child_weight, \n",
    "                          early_stopping_rounds, eval_metric, l1_reg_alpha, l2_reg_lambda, \n",
    "                          focal_gamma, weighted_alpha)\n",
    "\n",
    "model.fit(X_train, y_train)\n",
    "predictions = model.predict(X_test, y_test)\n",
    "accuracy = accuracy_score(y_test, predictions)\n",
    "precision = precision_score(y_test, predictions)\n",
    "recall = recall_score(y_test, predictions)\n",
    "f1 = f1_score(y_test, predictions)\n",
    "\n",
    "\n",
    "print(f'My Basic Implementation Accuracy: \\t{accuracy*100:.2f}%')\n",
    "print(f'My Basic Implementation Precision: \\t{precision*100:.2f}%')\n",
    "print(f'My Basic Implementation Recall: \\t{recall*100:.2f}%')\n",
    "print(f'My Basic Implementation F1: \\t{f1*100:.2f}%')"
   ]
  },
  {
   "cell_type": "code",
   "execution_count": 13,
   "metadata": {},
   "outputs": [
    {
     "name": "stdout",
     "output_type": "stream",
     "text": [
      "Weighted Accuracy: \t52.63%\n"
     ]
    }
   ],
   "source": [
    "n_estimators = 10\n",
    "max_depth = 10 \n",
    "max_leaves = 0\n",
    "eta_learning_rate = 0.1 \n",
    "verbosity = 1\n",
    "objective = 'weighted' \n",
    "booster = 'gbtree'\n",
    "gamma = 0.0\n",
    "min_child_weight = 1.0\n",
    "early_stopping_rounds = None\n",
    "eval_metric = 'logloss'\n",
    "l1_reg_alpha = 0.0\n",
    "l2_reg_lambda = 1.0\n",
    "focal_gamma = None\n",
    "weighted_alpha = 0.4\n",
    "\n",
    "model = ImbalancedXGBoost(n_estimators, max_depth, max_leaves, eta_learning_rate, \n",
    "                          verbosity, objective, booster, gamma, min_child_weight, \n",
    "                          early_stopping_rounds, eval_metric, l1_reg_alpha, l2_reg_lambda, \n",
    "                          focal_gamma, weighted_alpha)\n",
    "\n",
    "model.fit(X_train, y_train)\n",
    "predictions = model.predict(X_test, y_test)\n",
    "accuracy = accuracy_score(y_test, predictions)\n",
    "\n",
    "print(f'Weighted Accuracy: \\t{accuracy*100:.2f}%')"
   ]
  },
  {
   "cell_type": "code",
   "execution_count": 14,
   "metadata": {},
   "outputs": [
    {
     "name": "stdout",
     "output_type": "stream",
     "text": [
      "Focal Accuracy: \t78.29%\n"
     ]
    }
   ],
   "source": [
    "n_estimators = 10\n",
    "max_depth = 10 \n",
    "max_leaves = 0\n",
    "eta_learning_rate = 0.1 \n",
    "verbosity = 1\n",
    "objective = 'focal' \n",
    "booster = 'gbtree'\n",
    "gamma = 0.0\n",
    "min_child_weight = 1.0\n",
    "early_stopping_rounds = None\n",
    "eval_metric = 'logloss'\n",
    "l1_reg_alpha = 0.0\n",
    "l2_reg_lambda = 1.0\n",
    "focal_gamma = 0.5\n",
    "weighted_alpha = None\n",
    "\n",
    "model = ImbalancedXGBoost(n_estimators, max_depth, max_leaves, eta_learning_rate, \n",
    "                          verbosity, objective, booster, gamma, min_child_weight, \n",
    "                          early_stopping_rounds, eval_metric, l1_reg_alpha, l2_reg_lambda, \n",
    "                          focal_gamma, weighted_alpha)\n",
    "\n",
    "model.fit(X_train, y_train)\n",
    "predictions = model.predict(X_test, y_test)\n",
    "accuracy = accuracy_score(y_test, predictions)\n",
    "\n",
    "print(f'Focal Accuracy: \\t{accuracy*100:.2f}%')"
   ]
  }
 ],
 "metadata": {
  "kernelspec": {
   "display_name": "Python 3",
   "language": "python",
   "name": "python3"
  },
  "language_info": {
   "codemirror_mode": {
    "name": "ipython",
    "version": 3
   },
   "file_extension": ".py",
   "mimetype": "text/x-python",
   "name": "python",
   "nbconvert_exporter": "python",
   "pygments_lexer": "ipython3",
   "version": "3.11.4"
  }
 },
 "nbformat": 4,
 "nbformat_minor": 2
}
