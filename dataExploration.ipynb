{
 "cells": [
  {
   "cell_type": "code",
   "execution_count": 1,
   "metadata": {},
   "outputs": [],
   "source": [
    "import warnings\n",
    "warnings.simplefilter(action='ignore', category=FutureWarning) # Suppress a deprecation warning in pandas.\n",
    "import numpy as np\n",
    "import os\n",
    "import pandas as pd\n",
    "from typing import List, Tuple, Union\n",
    "import matplotlib.pyplot as plt\n",
    "import seaborn as sns"
   ]
  },
  {
   "cell_type": "code",
   "execution_count": 2,
   "metadata": {},
   "outputs": [],
   "source": [
    "# Intake a path, where the header starts (None if there is no header), the header for the class labels, and those headers that should be removed from the returned \n",
    "# dataset. The data is processed and returned as two numpy arrays (data and labels).\n",
    "def data_read_and_format(directory_path: str, header_line: Union[int, None], label_header: Union[str, None], remove_headers: Union[List[str], None]) -> Tuple[np.ndarray, np.ndarray]:\n",
    "    # Verify that the path exists.\n",
    "    try:\n",
    "        file_name = os.listdir(directory_path)\n",
    "    except FileNotFoundError:\n",
    "        raise FileNotFoundError(f\"{os.path.basename(os.path.normpath(directory_path))}'s folder is not located in the following path from the present working directory: ./../../440-project-data/\") from None\n",
    "    \n",
    "    # This processing function is designed to work on a specific data layout (only one tabular file). Raise an error if it is not formatted in this manner.\n",
    "    if len(file_name) > 1:\n",
    "        raise ValueError(f\"There is more than one file located in the '{os.path.basename(os.path.normpath(directory_path))}' directory. Please make sure that all data is merged into one file.\")\n",
    "    \n",
    "    # Read in the file according to its extension type. If it is not one of the 4 options listed below, raise an error saying that this function does not support \n",
    "    # that type of file.\n",
    "    file_ext = os.path.splitext(file_name[0])[-1]\n",
    "    if (file_ext == '.csv') or (file_ext == '.txt') or (file_ext == '.all-data'):\n",
    "        data = pd.read_csv(directory_path + file_name[0], header=header_line)\n",
    "    elif file_ext == '.xlsx' or file_ext == '.xls':\n",
    "        data = pd.read_excel(directory_path + file_name[0], header=header_line)\n",
    "    else:\n",
    "        raise TypeError(f\"The '{file_ext}' file extension is not supported by this data pre-processing function.\")\n",
    "    \n",
    "    # Drop columns where there is missing data.\n",
    "    data = data.dropna(axis=1)\n",
    "\n",
    "    # Ordinally encode the \"object\" type features.\n",
    "    for col_name, _ in data.iteritems():\n",
    "        if data[col_name].dtype == 'O':\n",
    "            data[col_name] = pd.factorize(data[col_name])[0]\n",
    "\n",
    "    # If there is a header, remove the features specified and create the data and labels as numpy arrays. If there is not a header, it is assumed that the labels are \n",
    "    # the very last column of the input dataset, a warning is output letting the user know that they should verify that their data is formatted in this manner. Otherwise, \n",
    "    # no other columns are removed and they are converted into numpy arrays like in the other branch.\n",
    "    if (header_line == 0) or (header_line):\n",
    "        remove_headers.append(label_header)\n",
    "\n",
    "        headers = data.columns.values.tolist()\n",
    "\n",
    "        for header in remove_headers:\n",
    "            headers.remove(header)\n",
    "\n",
    "        X = data[headers].to_numpy()\n",
    "        y = data[label_header].to_numpy()\n",
    "    else:\n",
    "        warnings.warn(\"If there are no headers in the file, then this function assumes that the labels are in the final column and everything before is data. Please verify that your dataset takes this form before moving forward.\", Warning)\n",
    "        num_cols = data.shape[1]\n",
    "\n",
    "        headers = data.columns.values.tolist()\n",
    "\n",
    "        headers.remove(num_cols - 1)\n",
    "\n",
    "        X = data[headers].to_numpy()\n",
    "        y = data[num_cols - 1].to_numpy()\n",
    "\n",
    "    # Return the data and labels.\n",
    "    return (X, y)"
   ]
  },
  {
   "cell_type": "code",
   "execution_count": 3,
   "metadata": {},
   "outputs": [],
   "source": [
    "# Call the formatting function on the banknote authentication dataset and return it to the user.\n",
    "def get_banknote_authentication() -> Tuple[np.ndarray, np.ndarray]:\n",
    "    directory_path = r'./../../440-project-data/banknote-authentication/'\n",
    "    header_line = None\n",
    "    label_header = None\n",
    "    remove_headers = None\n",
    "    return data_read_and_format(directory_path, header_line, label_header, remove_headers)\n",
    "\n",
    "\n",
    "# Call the formatting function on the Brazilian COVID-19 dataset and return it to the user.\n",
    "def get_brazil_covid() -> Tuple[np.ndarray, np.ndarray]:\n",
    "    directory_path = r'./../../440-project-data/brazil-covid/'\n",
    "    header_line = 0\n",
    "    label_header = \"SARS-Cov-2 exam result\"\n",
    "    remove_headers = [\"Patient ID\"]\n",
    "    return data_read_and_format(directory_path, header_line, label_header, remove_headers)\n",
    "\n",
    "\n",
    "# Call the formatting function on the Pima Indian diabetes dataset and return it to the user.\n",
    "def get_pima_diabetes() -> Tuple[np.ndarray, np.ndarray]:\n",
    "    directory_path = r'./../../440-project-data/pima-diabetes/'\n",
    "    header_line = 0\n",
    "    label_header = 'Outcome'\n",
    "    remove_headers = []\n",
    "    return data_read_and_format(directory_path, header_line, label_header, remove_headers)\n",
    "\n",
    "\n",
    "# Call the formatting function on the sonar mines dataset and return it to the user.\n",
    "def get_sonar_mines() -> Tuple[np.ndarray, np.ndarray]:\n",
    "    directory_path = r'./../../440-project-data/sonar-mines/'\n",
    "    header_line = None\n",
    "    label_header = None\n",
    "    remove_headers = None\n",
    "    return data_read_and_format(directory_path, header_line, label_header, remove_headers)\n",
    "\n",
    "\n",
    "# Call the formatting function on the heart failure dataset and return it to the user.\n",
    "def get_heart_failure() -> Tuple[np.ndarray, np.ndarray]:\n",
    "    directory_path = r'./../../440-project-data/heart-failure/'\n",
    "    header_line = 0\n",
    "    label_header = 'HeartDisease'\n",
    "    remove_headers = []\n",
    "    return data_read_and_format(directory_path, header_line, label_header, remove_headers)\n",
    "\n",
    "\n",
    "# Call the formatting function on the Titanic survivors dataset and return it to the user.\n",
    "def get_titanic_survivors() -> Tuple[np.ndarray, np.ndarray]:\n",
    "    directory_path = r'./../../440-project-data/titanic-survivors/'\n",
    "    header_line = 0\n",
    "    label_header = 'survived'\n",
    "    remove_headers = []\n",
    "    return data_read_and_format(directory_path, header_line, label_header, remove_headers)\n",
    "\n",
    "\n",
    "# Call the formatting function on the wine quality dataset and return it to the user.\n",
    "def get_wine_quality() -> Tuple[np.ndarray, np.ndarray]:\n",
    "    directory_path = r'./../../440-project-data/wine-quality/'\n",
    "    header_line = 0\n",
    "    label_header = 'quality'\n",
    "    remove_headers = ['Id']\n",
    "    return data_read_and_format(directory_path, header_line, label_header, remove_headers)"
   ]
  },
  {
   "cell_type": "code",
   "execution_count": 4,
   "metadata": {},
   "outputs": [
    {
     "name": "stdout",
     "output_type": "stream",
     "text": [
      "[[  3.6216    8.6661   -2.8073   -0.44699]\n",
      " [  4.5459    8.1674   -2.4586   -1.4621 ]\n",
      " [  3.866    -2.6383    1.9242    0.10645]\n",
      " ...\n",
      " [ -3.7503  -13.4586   17.5932   -2.7771 ]\n",
      " [ -3.5637   -8.3827   12.393    -1.2823 ]\n",
      " [ -2.5419   -0.65804   2.6842    1.1952 ]]\n",
      "[0 0 0 ... 1 1 1]\n"
     ]
    },
    {
     "name": "stderr",
     "output_type": "stream",
     "text": [
      "/var/folders/8b/9xj_42b90vx1qvx26pq56qgw0000gn/T/ipykernel_66261/1700635210.py:46: Warning: If there are no headers in the file, then this function assumes that the labels are in the final column and everything before is data. Please verify that your dataset takes this form before moving forward.\n",
      "  warnings.warn(\"If there are no headers in the file, then this function assumes that the labels are in the final column and everything before is data. Please verify that your dataset takes this form before moving forward.\", Warning)\n"
     ]
    }
   ],
   "source": [
    "X, y = get_banknote_authentication()\n",
    "print(X)\n",
    "print(y)"
   ]
  },
  {
   "cell_type": "code",
   "execution_count": 5,
   "metadata": {},
   "outputs": [
    {
     "name": "stdout",
     "output_type": "stream",
     "text": [
      "[[13  0  0  0]\n",
      " [17  0  0  0]\n",
      " [ 8  0  0  0]\n",
      " ...\n",
      " [ 4  0  0  0]\n",
      " [10  0  0  0]\n",
      " [19  0  0  0]]\n",
      "[0 0 0 ... 0 0 1]\n"
     ]
    }
   ],
   "source": [
    "X, y = get_brazil_covid()\n",
    "print(X)\n",
    "print(y)"
   ]
  },
  {
   "cell_type": "code",
   "execution_count": 6,
   "metadata": {},
   "outputs": [
    {
     "name": "stdout",
     "output_type": "stream",
     "text": [
      "[[  6.    148.     72.    ...  33.6     0.627  50.   ]\n",
      " [  1.     85.     66.    ...  26.6     0.351  31.   ]\n",
      " [  8.    183.     64.    ...  23.3     0.672  32.   ]\n",
      " ...\n",
      " [  5.    121.     72.    ...  26.2     0.245  30.   ]\n",
      " [  1.    126.     60.    ...  30.1     0.349  47.   ]\n",
      " [  1.     93.     70.    ...  30.4     0.315  23.   ]]\n",
      "[1 0 1 0 1 0 1 0 1 1 0 1 0 1 1 1 1 1 0 1 0 0 1 1 1 1 1 0 0 0 0 1 0 0 0 0 0\n",
      " 1 1 1 0 0 0 1 0 1 0 0 1 0 0 0 0 1 0 0 1 0 0 0 0 1 0 0 1 0 1 0 0 0 1 0 1 0\n",
      " 0 0 0 0 1 0 0 0 0 0 1 0 0 0 1 0 0 0 0 1 0 0 0 0 0 1 1 0 0 0 0 0 0 0 0 1 1\n",
      " 1 0 0 1 1 1 0 0 0 1 0 0 0 1 1 0 0 1 1 1 1 1 0 0 0 0 0 0 0 0 0 0 1 0 0 0 0\n",
      " 0 0 0 0 1 0 1 1 0 0 0 1 0 0 0 0 1 1 0 0 0 0 1 1 0 0 0 1 0 1 0 1 0 0 0 0 0\n",
      " 1 1 1 1 1 0 0 1 1 0 1 0 1 1 1 0 0 0 0 0 0 1 1 0 1 0 0 0 1 1 1 1 0 1 1 1 1\n",
      " 0 0 0 0 0 1 0 0 1 1 0 0 0 1 1 1 1 0 0 0 1 1 0 1 0 0 0 0 0 0 0 0 1 1 0 0 0\n",
      " 1 0 1 0 0 1 0 1 0 0 1 1 0 0 0 0 0 1 0 0 0 1 0 0 1 1 0 0 1 0 0 0 1 1 1 0 0\n",
      " 1 0 1 0 1 1 0 1 0 0 1 0 1 1 0 0 1 0 1 0 0 1 0 1 0 1 1 1 0 0 1 0 1 0 0 0 1\n",
      " 0 0 0 0 1 1 1 0 0 0 0 0 0 0 0 0 1 0 0 0 0 0 1 1 1 0 1 1 0 0 1 0 0 1 0 0 1\n",
      " 1 0 0 0 0 1 0 0 1 0 0 0 0 0 0 0 1 1 1 0 0 1 0 0 1 0 0 1 0 1 1 0 1 0 1 0 1\n",
      " 0 1 1 0 0 0 0 1 1 0 1 0 1 0 0 0 0 1 1 0 1 0 1 0 0 0 0 0 1 0 0 0 0 1 0 0 1\n",
      " 1 1 0 0 1 0 0 1 0 0 0 1 0 0 1 0 0 0 0 0 0 0 0 0 1 0 0 0 0 0 0 0 1 0 0 0 1\n",
      " 0 0 0 1 1 0 0 0 0 0 0 0 1 0 0 0 0 1 0 0 0 1 0 0 0 1 0 0 0 1 0 0 0 0 1 1 0\n",
      " 0 0 0 0 0 1 0 0 0 0 0 0 0 0 0 0 0 1 0 0 0 1 1 1 1 0 0 1 1 0 0 0 0 0 0 0 0\n",
      " 0 0 0 0 0 1 1 0 0 0 0 0 0 0 1 0 0 0 0 0 0 0 1 0 1 1 0 0 0 1 0 1 0 1 0 1 0\n",
      " 1 0 0 1 0 0 1 0 0 0 0 1 1 0 1 0 0 0 0 1 1 0 1 0 0 0 1 1 0 0 0 0 0 0 0 0 0\n",
      " 0 1 0 0 0 0 1 0 0 1 0 0 0 1 0 0 0 1 1 1 0 0 0 0 0 0 1 0 0 0 1 0 1 1 1 1 0\n",
      " 1 1 0 0 0 0 0 0 0 1 1 0 1 0 0 1 0 1 0 0 0 0 0 1 0 1 0 1 0 1 1 0 0 0 0 1 1\n",
      " 0 0 0 1 0 1 1 0 0 1 0 0 1 1 0 0 1 0 0 1 0 0 0 0 0 0 0 1 1 1 0 0 0 0 0 0 1\n",
      " 1 0 0 1 0 0 1 0 1 1 1 0 0 1 1 1 0 1 0 1 0 1 0 0 0 0 1 0]\n"
     ]
    }
   ],
   "source": [
    "X, y = get_pima_diabetes()\n",
    "print(X)\n",
    "print(y)"
   ]
  },
  {
   "cell_type": "code",
   "execution_count": 7,
   "metadata": {},
   "outputs": [
    {
     "name": "stdout",
     "output_type": "stream",
     "text": [
      "The type of 'X' is:  <class 'numpy.ndarray'>\n",
      "The length of 'X' is:  208\n",
      "The shape of 'X' is:  (208, 60)\n",
      "The type of the first 'X' entry is:  <class 'numpy.ndarray'>\n",
      "The type of the first 'X[0]' entry is:  <class 'numpy.float64'>\n",
      "'X':  [[0.02   0.0371 0.0428 ... 0.0084 0.009  0.0032]\n",
      " [0.0453 0.0523 0.0843 ... 0.0049 0.0052 0.0044]\n",
      " [0.0262 0.0582 0.1099 ... 0.0164 0.0095 0.0078]\n",
      " ...\n",
      " [0.0522 0.0437 0.018  ... 0.0138 0.0077 0.0031]\n",
      " [0.0303 0.0353 0.049  ... 0.0079 0.0036 0.0048]\n",
      " [0.026  0.0363 0.0136 ... 0.0036 0.0061 0.0115]]\n",
      "*******************************************\n",
      "The type of 'y' is:  <class 'numpy.ndarray'>\n",
      "The length of 'y' is:  208\n",
      "The shape of 'y' is:  (208,)\n",
      "The type of the first 'y' entry is:  <class 'numpy.int64'>\n",
      "'y':  [0 0 0 0 0 0 0 0 0 0 0 0 0 0 0 0 0 0 0 0 0 0 0 0 0 0 0 0 0 0 0 0 0 0 0 0 0\n",
      " 0 0 0 0 0 0 0 0 0 0 0 0 0 0 0 0 0 0 0 0 0 0 0 0 0 0 0 0 0 0 0 0 0 0 0 0 0\n",
      " 0 0 0 0 0 0 0 0 0 0 0 0 0 0 0 0 0 0 0 0 0 0 0 1 1 1 1 1 1 1 1 1 1 1 1 1 1\n",
      " 1 1 1 1 1 1 1 1 1 1 1 1 1 1 1 1 1 1 1 1 1 1 1 1 1 1 1 1 1 1 1 1 1 1 1 1 1\n",
      " 1 1 1 1 1 1 1 1 1 1 1 1 1 1 1 1 1 1 1 1 1 1 1 1 1 1 1 1 1 1 1 1 1 1 1 1 1\n",
      " 1 1 1 1 1 1 1 1 1 1 1 1 1 1 1 1 1 1 1 1 1 1 1]\n"
     ]
    },
    {
     "name": "stderr",
     "output_type": "stream",
     "text": [
      "/var/folders/8b/9xj_42b90vx1qvx26pq56qgw0000gn/T/ipykernel_66261/1700635210.py:46: Warning: If there are no headers in the file, then this function assumes that the labels are in the final column and everything before is data. Please verify that your dataset takes this form before moving forward.\n",
      "  warnings.warn(\"If there are no headers in the file, then this function assumes that the labels are in the final column and everything before is data. Please verify that your dataset takes this form before moving forward.\", Warning)\n"
     ]
    },
    {
     "data": {
      "image/png": "[encoded data removed]",
      "text/plain": [
       "<Figure size 600x400 with 1 Axes>"
      ]
     },
     "metadata": {},
     "output_type": "display_data"
    }
   ],
   "source": [
    "X, y = get_sonar_mines()\n",
    "\n",
    "# Looking into the type, length, and shape of the data for a better understanding\n",
    "# Explain X\n",
    "print(\"The type of 'X' is: \", type(X))\n",
    "print(\"The length of 'X' is: \", len(X))\n",
    "print(\"The shape of 'X' is: \", X.shape)\n",
    "print(\"The type of the first 'X' entry is: \", type(X[0]))\n",
    "print(\"The type of the first 'X[0]' entry is: \", type(X[0][0]))\n",
    "print(\"'X': \", X)\n",
    "print(\"*******************************************\")\n",
    "# Explain y\n",
    "print(\"The type of 'y' is: \", type(y))\n",
    "print(\"The length of 'y' is: \", len(y))\n",
    "print(\"The shape of 'y' is: \", y.shape)\n",
    "print(\"The type of the first 'y' entry is: \", type(y[0]))\n",
    "print(\"'y': \", y)\n",
    "\n",
    "# Understanding how skewed the data is if at all\n",
    "plt.figure(figsize=(6, 4))\n",
    "sns.countplot(x=y)\n",
    "plt.title('Distribution of Binary Labels')\n",
    "plt.xlabel('Labels')\n",
    "plt.ylabel('Count')\n",
    "plt.show()\n"
   ]
  },
  {
   "cell_type": "code",
   "execution_count": 8,
   "metadata": {},
   "outputs": [
    {
     "name": "stdout",
     "output_type": "stream",
     "text": [
      "The type of 'X' is:  <class 'numpy.ndarray'>\n",
      "The length of 'X' is:  918\n",
      "The shape of 'X' is:  (918, 11)\n",
      "The type of the first 'X' entry is:  <class 'numpy.ndarray'>\n",
      "The type of the first 'X[0]' entry is:  <class 'numpy.float64'>\n",
      "'X':  [[40.   0.   0.  ...  0.   0.   0. ]\n",
      " [49.   1.   1.  ...  0.   1.   1. ]\n",
      " [37.   0.   0.  ...  0.   0.   0. ]\n",
      " ...\n",
      " [57.   0.   2.  ...  1.   1.2  1. ]\n",
      " [57.   1.   0.  ...  0.   0.   1. ]\n",
      " [38.   0.   1.  ...  0.   0.   0. ]]\n",
      "*******************************************\n",
      "The type of 'y' is:  <class 'numpy.ndarray'>\n",
      "The length of 'y' is:  918\n",
      "The shape of 'y' is:  (918,)\n",
      "The type of the first 'y' entry is:  <class 'numpy.int64'>\n",
      "'y':  [0 1 0 1 0 0 0 0 1 0 0 1 0 1 0 0 1 0 1 1 0 0 0 1 0 0 0 0 0 0 1 0 1 1 0 0 1\n",
      " 0 0 0 0 1 0 0 1 0 0 0 0 1 1 1 0 0 0 0 1 1 0 1 0 0 0 1 0 0 0 0 1 0 1 0 1 0\n",
      " 1 0 1 0 0 1 0 0 1 0 1 1 1 0 1 0 0 0 0 1 0 1 0 0 0 0 1 0 1 1 1 0 0 0 0 0 0\n",
      " 1 0 0 0 1 1 1 0 1 1 0 0 1 0 0 0 0 0 0 0 1 1 1 0 1 0 0 1 1 1 1 1 0 1 0 0 0\n",
      " 0 1 0 0 0 0 0 1 1 0 1 0 1 1 0 0 0 1 1 0 0 0 0 0 0 0 1 1 1 0 0 0 1 0 1 0 0\n",
      " 1 0 1 0 1 0 0 0 0 0 0 0 0 1 0 0 0 0 0 0 0 0 1 0 1 1 1 0 0 1 0 1 0 0 0 1 1\n",
      " 0 0 0 1 0 1 0 0 0 0 0 0 0 0 1 1 1 1 0 1 1 0 1 0 1 1 1 1 1 1 0 0 1 0 0 0 0\n",
      " 0 0 0 1 1 1 0 1 0 1 0 0 0 1 0 0 0 1 1 0 0 0 1 0 0 0 0 0 0 0 0 0 0 0 1 1 1\n",
      " 1 1 1 1 1 0 1 1 1 1 1 0 1 1 0 1 1 1 0 1 1 1 1 1 1 1 1 1 1 1 0 1 1 1 1 1 0\n",
      " 1 1 1 0 1 1 1 1 1 1 1 1 1 1 1 1 1 1 1 1 1 1 1 1 1 1 1 1 1 1 1 0 1 1 1 1 1\n",
      " 1 1 1 1 1 1 1 1 1 1 1 1 1 1 1 1 1 1 1 1 1 1 1 1 1 1 1 1 1 1 1 1 1 1 1 1 1\n",
      " 1 1 1 1 1 1 1 1 1 1 0 1 1 0 0 1 0 1 1 0 1 1 1 1 0 1 1 0 0 1 1 1 0 1 1 1 1\n",
      " 1 1 1 1 1 1 1 1 1 0 1 0 1 1 1 0 1 1 1 0 1 0 1 0 1 0 1 1 1 1 0 1 0 1 1 1 1\n",
      " 1 1 1 1 1 0 1 0 1 1 1 1 1 1 1 0 1 1 1 1 1 1 0 1 1 1 0 1 1 0 1 0 1 1 0 1 1\n",
      " 1 1 0 1 1 1 0 0 1 0 1 1 1 1 1 1 1 1 1 1 1 0 1 1 1 1 0 0 1 1 1 0 1 0 1 1 0\n",
      " 1 0 1 1 1 0 0 0 1 1 1 0 1 1 1 1 1 1 1 1 1 1 1 1 1 1 1 1 0 1 1 1 0 1 1 0 0\n",
      " 1 1 1 1 1 0 1 1 0 1 1 1 0 0 1 1 1 1 1 0 1 0 1 1 0 1 0 0 0 1 1 1 1 0 0 0 1\n",
      " 0 0 1 1 0 0 1 0 0 0 0 0 0 0 1 0 1 0 0 1 1 1 1 1 0 0 1 0 0 0 1 0 1 1 1 1 1\n",
      " 0 0 0 0 0 1 0 1 1 0 1 0 0 0 1 0 1 0 1 1 0 0 0 0 1 0 0 0 0 1 1 1 0 0 0 0 0\n",
      " 0 1 0 1 1 1 1 1 0 1 0 0 0 1 0 1 1 1 0 1 1 0 1 0 1 0 0 0 1 1 0 1 1 1 1 0 0\n",
      " 0 1 0 0 1 1 1 0 1 0 0 0 1 0 0 1 0 1 0 1 1 1 1 1 0 0 0 0 0 0 0 1 0 0 1 1 1\n",
      " 0 1 0 0 0 0 0 1 0 1 1 0 0 1 1 1 1 0 0 1 1 0 0 0 1 0 0 1 0 1 0 1 0 0 0 0 0\n",
      " 1 0 1 1 1 1 0 0 0 1 0 1 0 0 1 0 0 0 0 0 0 1 1 0 1 0 0 1 1 0 0 1 1 0 1 0 1\n",
      " 0 1 0 0 1 0 0 1 0 1 1 0 1 1 1 0 1 0 0 0 0 1 1 0 0 1 1 0 1 0 0 0 0 1 0 0 1\n",
      " 1 1 0 0 0 1 0 1 0 1 0 1 1 1 0 0 0 1 0 1 1 1 0 1 1 1 1 1 1 0]\n"
     ]
    },
    {
     "data": {
      "image/png": "[encoded data removed]",
      "text/plain": [
       "<Figure size 600x400 with 1 Axes>"
      ]
     },
     "metadata": {},
     "output_type": "display_data"
    }
   ],
   "source": [
    "X, y = get_heart_failure()\n",
    "\n",
    "# Looking into the type, length, and shape of the data for a better understanding\n",
    "# Explain X\n",
    "print(\"The type of 'X' is: \", type(X))\n",
    "print(\"The length of 'X' is: \", len(X))\n",
    "print(\"The shape of 'X' is: \", X.shape)\n",
    "print(\"The type of the first 'X' entry is: \", type(X[0]))\n",
    "print(\"The type of the first 'X[0]' entry is: \", type(X[0][0]))\n",
    "print(\"'X': \", X)\n",
    "print(\"*******************************************\")\n",
    "# Explain y\n",
    "print(\"The type of 'y' is: \", type(y))\n",
    "print(\"The length of 'y' is: \", len(y))\n",
    "print(\"The shape of 'y' is: \", y.shape)\n",
    "print(\"The type of the first 'y' entry is: \", type(y[0]))\n",
    "print(\"'y': \", y)\n",
    "\n",
    "# Understanding how skewed the data is if at all\n",
    "plt.figure(figsize=(6, 4))\n",
    "sns.countplot(x=y)\n",
    "plt.title('Distribution of Binary Labels')\n",
    "plt.xlabel('Labels')\n",
    "plt.ylabel('Count')\n",
    "plt.show()\n"
   ]
  },
  {
   "cell_type": "code",
   "execution_count": 9,
   "metadata": {},
   "outputs": [
    {
     "name": "stdout",
     "output_type": "stream",
     "text": [
      "The type of 'X' is:  <class 'numpy.ndarray'>\n",
      "The length of 'X' is:  1309\n",
      "The shape of 'X' is:  (1309, 6)\n",
      "The type of the first 'X' entry is:  <class 'numpy.ndarray'>\n",
      "The type of the first 'X[0]' entry is:  <class 'numpy.int64'>\n",
      "'X':  [[   1    0    0    0    0    0]\n",
      " [   1    1    1    1    2    1]\n",
      " [   1    2    0    1    2    1]\n",
      " ...\n",
      " [   3 1304    1    0    0  936]\n",
      " [   3 1305    1    0    0  937]\n",
      " [   3 1306    1    0    0  938]]\n",
      "*******************************************\n",
      "The type of 'y' is:  <class 'numpy.ndarray'>\n",
      "The length of 'y' is:  1309\n",
      "The shape of 'y' is:  (1309,)\n",
      "The type of the first 'y' entry is:  <class 'numpy.int64'>\n",
      "'y':  [1 1 0 ... 0 0 0]\n"
     ]
    },
    {
     "data": {
      "image/png": "[encoded data removed]",
      "text/plain": [
       "<Figure size 600x400 with 1 Axes>"
      ]
     },
     "metadata": {},
     "output_type": "display_data"
    }
   ],
   "source": [
    "X, y = get_titanic_survivors()\n",
    "\n",
    "# Looking into the type, length, and shape of the data for a better understanding\n",
    "# Explain X\n",
    "print(\"The type of 'X' is: \", type(X))\n",
    "print(\"The length of 'X' is: \", len(X))\n",
    "print(\"The shape of 'X' is: \", X.shape)\n",
    "print(\"The type of the first 'X' entry is: \", type(X[0]))\n",
    "print(\"The type of the first 'X[0]' entry is: \", type(X[0][0]))\n",
    "print(\"'X': \", X)\n",
    "print(\"*******************************************\")\n",
    "# Explain y\n",
    "print(\"The type of 'y' is: \", type(y))\n",
    "print(\"The length of 'y' is: \", len(y))\n",
    "print(\"The shape of 'y' is: \", y.shape)\n",
    "print(\"The type of the first 'y' entry is: \", type(y[0]))\n",
    "print(\"'y': \", y)\n",
    "\n",
    "# Understanding how skewed the data is if at all\n",
    "plt.figure(figsize=(6, 4))\n",
    "sns.countplot(x=y)\n",
    "plt.title('Distribution of Binary Labels')\n",
    "plt.xlabel('Labels')\n",
    "plt.ylabel('Count')\n",
    "plt.show()"
   ]
  },
  {
   "cell_type": "code",
   "execution_count": 10,
   "metadata": {},
   "outputs": [
    {
     "name": "stdout",
     "output_type": "stream",
     "text": [
      "The type of 'X' is:  <class 'numpy.ndarray'>\n",
      "The length of 'X' is:  1143\n",
      "The shape of 'X' is:  (1143, 11)\n",
      "The type of the first 'X' entry is:  <class 'numpy.ndarray'>\n",
      "The type of the first 'X[0]' entry is:  <class 'numpy.float64'>\n",
      "'X':  [[ 7.4    0.7    0.    ...  3.51   0.56   9.4  ]\n",
      " [ 7.8    0.88   0.    ...  3.2    0.68   9.8  ]\n",
      " [ 7.8    0.76   0.04  ...  3.26   0.65   9.8  ]\n",
      " ...\n",
      " [ 6.2    0.6    0.08  ...  3.45   0.58  10.5  ]\n",
      " [ 5.9    0.55   0.1   ...  3.52   0.76  11.2  ]\n",
      " [ 5.9    0.645  0.12  ...  3.57   0.71  10.2  ]]\n",
      "*******************************************\n",
      "The type of 'y' is:  <class 'numpy.ndarray'>\n",
      "The length of 'y' is:  1143\n",
      "The shape of 'y' is:  (1143,)\n",
      "The type of the first 'y' entry is:  <class 'numpy.int64'>\n",
      "'y':  [5 5 5 ... 5 6 5]\n"
     ]
    },
    {
     "data": {
      "image/png": "[encoded data removed]",
      "text/plain": [
       "<Figure size 600x400 with 1 Axes>"
      ]
     },
     "metadata": {},
     "output_type": "display_data"
    }
   ],
   "source": [
    "X, y = get_wine_quality()\n",
    "\n",
    "# Looking into the type, length, and shape of the data for a better understanding\n",
    "# Explain X\n",
    "print(\"The type of 'X' is: \", type(X))\n",
    "print(\"The length of 'X' is: \", len(X))\n",
    "print(\"The shape of 'X' is: \", X.shape)\n",
    "print(\"The type of the first 'X' entry is: \", type(X[0]))\n",
    "print(\"The type of the first 'X[0]' entry is: \", type(X[0][0]))\n",
    "print(\"'X': \", X)\n",
    "print(\"*******************************************\")\n",
    "# Explain y\n",
    "print(\"The type of 'y' is: \", type(y))\n",
    "print(\"The length of 'y' is: \", len(y))\n",
    "print(\"The shape of 'y' is: \", y.shape)\n",
    "print(\"The type of the first 'y' entry is: \", type(y[0]))\n",
    "print(\"'y': \", y)\n",
    "\n",
    "# Understanding how skewed the data is if at all\n",
    "plt.figure(figsize=(6, 4))\n",
    "sns.countplot(x=y)\n",
    "plt.title('Distribution of Labels')\n",
    "plt.xlabel('Labels')\n",
    "plt.ylabel('Count')\n",
    "plt.show()"
   ]
  }
 ],
 "metadata": {
  "kernelspec": {
   "display_name": "Python 3",
   "language": "python",
   "name": "python3"
  },
  "language_info": {
   "codemirror_mode": {
    "name": "ipython",
    "version": 3
   },
   "file_extension": ".py",
   "mimetype": "text/x-python",
   "name": "python",
   "nbconvert_exporter": "python",
   "pygments_lexer": "ipython3",
   "version": "3.11.4"
  }
 },
 "nbformat": 4,
 "nbformat_minor": 2
}
