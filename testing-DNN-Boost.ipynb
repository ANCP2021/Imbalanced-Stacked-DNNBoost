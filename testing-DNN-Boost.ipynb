{
 "cells": [
  {
   "cell_type": "code",
   "execution_count": 51,
   "metadata": {},
   "outputs": [],
   "source": [
    "import sys\n",
    "sys.path.append(r'./src/')\n",
    "\n",
    "import matplotlib.pyplot as plt\n",
    "from imbalancedDNNBoost import ImbalancedDNNBoost\n",
    "from sklearn.metrics import accuracy_score\n",
    "from sklearn.preprocessing import StandardScaler\n",
    "import pandas as pd\n",
    "import data"
   ]
  },
  {
   "cell_type": "code",
   "execution_count": 52,
   "metadata": {},
   "outputs": [],
   "source": [
    "heart_acc = []\n",
    "sonar_acc = []\n",
    "diabetes_acc = []\n",
    "pd_acc = []"
   ]
  },
  {
   "cell_type": "markdown",
   "metadata": {},
   "source": [
    "## Heart Failure Dataset: ##"
   ]
  },
  {
   "cell_type": "code",
   "execution_count": 53,
   "metadata": {},
   "outputs": [],
   "source": [
    "X_heart, y_heart = data.get_heart_failure()\n",
    "X_train_heart, y_train_heart, X_test_heart, y_test_heart = data.cv_split(X=X_heart, y=y_heart, folds=5, stratified=True)[0]"
   ]
  },
  {
   "cell_type": "markdown",
   "metadata": {},
   "source": [
    "### Default | Default ###"
   ]
  },
  {
   "cell_type": "code",
   "execution_count": 54,
   "metadata": {},
   "outputs": [
    {
     "name": "stdout",
     "output_type": "stream",
     "text": [
      "Epoch 1/10\n"
     ]
    },
    {
     "name": "stdout",
     "output_type": "stream",
     "text": [
      "23/23 [==============================] - 1s 2ms/step - loss: 4.4765 - accuracy: 0.4262\n",
      "Epoch 2/10\n",
      "23/23 [==============================] - 0s 2ms/step - loss: 2.3576 - accuracy: 0.4604\n",
      "Epoch 3/10\n",
      "23/23 [==============================] - 0s 2ms/step - loss: 1.5877 - accuracy: 0.5560\n",
      "Epoch 4/10\n",
      "23/23 [==============================] - 0s 2ms/step - loss: 1.1387 - accuracy: 0.6325\n",
      "Epoch 5/10\n",
      "23/23 [==============================] - 0s 2ms/step - loss: 0.9386 - accuracy: 0.6762\n",
      "Epoch 6/10\n",
      "23/23 [==============================] - 0s 2ms/step - loss: 0.8425 - accuracy: 0.6899\n",
      "Epoch 7/10\n",
      "23/23 [==============================] - 0s 2ms/step - loss: 0.8210 - accuracy: 0.7090\n",
      "Epoch 8/10\n",
      "23/23 [==============================] - 0s 2ms/step - loss: 0.7117 - accuracy: 0.7117\n",
      "Epoch 9/10\n",
      "23/23 [==============================] - 0s 2ms/step - loss: 0.6933 - accuracy: 0.7391\n",
      "Epoch 10/10\n",
      "23/23 [==============================] - 0s 2ms/step - loss: 0.6866 - accuracy: 0.7254\n",
      "23/23 [==============================] - 0s 1ms/step\n",
      "6/6 [==============================] - 0s 2ms/step\n",
      "0.8172043010752689\n"
     ]
    }
   ],
   "source": [
    "model = ImbalancedDNNBoost()\n",
    "predictions = model.combo(X_train_heart, y_train_heart, X_test_heart, y_test_heart)\n",
    "\n",
    "accuracy = accuracy_score(y_test_heart, predictions)\n",
    "print(accuracy)\n",
    "heart_acc.append(accuracy)"
   ]
  },
  {
   "cell_type": "markdown",
   "metadata": {},
   "source": [
    "### Weighted | Weighted ###"
   ]
  },
  {
   "cell_type": "code",
   "execution_count": 55,
   "metadata": {},
   "outputs": [
    {
     "name": "stdout",
     "output_type": "stream",
     "text": [
      "Epoch 1/10\n",
      "23/23 [==============================] - 1s 3ms/step - loss: 6.1279 - accuracy: 0.4863\n",
      "Epoch 2/10\n",
      "23/23 [==============================] - 0s 3ms/step - loss: 4.3999 - accuracy: 0.5342\n",
      "Epoch 3/10\n",
      "23/23 [==============================] - 0s 3ms/step - loss: 3.9114 - accuracy: 0.5273\n",
      "Epoch 4/10\n",
      "23/23 [==============================] - 0s 2ms/step - loss: 3.8676 - accuracy: 0.5669\n",
      "Epoch 5/10\n",
      "23/23 [==============================] - 0s 2ms/step - loss: 3.8594 - accuracy: 0.5697\n",
      "Epoch 6/10\n",
      "23/23 [==============================] - 0s 2ms/step - loss: 3.8528 - accuracy: 0.5765\n",
      "Epoch 7/10\n",
      "23/23 [==============================] - 0s 2ms/step - loss: 3.8549 - accuracy: 0.5779\n",
      "Epoch 8/10\n",
      "23/23 [==============================] - 0s 2ms/step - loss: 3.8519 - accuracy: 0.5792\n",
      "Epoch 9/10\n",
      "23/23 [==============================] - 0s 2ms/step - loss: 3.8483 - accuracy: 0.5792\n",
      "Epoch 10/10\n",
      "23/23 [==============================] - 0s 2ms/step - loss: 3.8487 - accuracy: 0.5792\n",
      "23/23 [==============================] - 0s 1ms/step\n",
      "6/6 [==============================] - 0s 2ms/step\n",
      "0.3870967741935484\n"
     ]
    }
   ],
   "source": [
    "model = ImbalancedDNNBoost(dnn_loss='weighted', dnn_weighted_alpha=0.4, xgb_loss='weighted', xgb_weighted_alpha=0.4)\n",
    "predictions = model.combo(X_train_heart, y_train_heart, X_test_heart, y_test_heart)\n",
    "\n",
    "accuracy = accuracy_score(y_test_heart, predictions)\n",
    "print(accuracy)\n",
    "heart_acc.append(accuracy)"
   ]
  },
  {
   "cell_type": "markdown",
   "metadata": {},
   "source": [
    "### Focal | Focal ###"
   ]
  },
  {
   "cell_type": "code",
   "execution_count": 56,
   "metadata": {},
   "outputs": [
    {
     "name": "stdout",
     "output_type": "stream",
     "text": [
      "Epoch 1/10\n",
      "23/23 [==============================] - 2s 3ms/step - loss: 1.3983 - accuracy: 0.5587\n",
      "Epoch 2/10\n",
      "23/23 [==============================] - 0s 3ms/step - loss: 1.3983 - accuracy: 0.5587\n",
      "Epoch 3/10\n",
      "23/23 [==============================] - 0s 3ms/step - loss: 1.3983 - accuracy: 0.5587\n",
      "Epoch 4/10\n",
      "23/23 [==============================] - 0s 3ms/step - loss: 1.3983 - accuracy: 0.5587\n",
      "Epoch 5/10\n",
      "23/23 [==============================] - 0s 2ms/step - loss: 1.3983 - accuracy: 0.5587\n",
      "Epoch 6/10\n",
      "23/23 [==============================] - 0s 3ms/step - loss: 1.3983 - accuracy: 0.5587\n",
      "Epoch 7/10\n",
      "23/23 [==============================] - 0s 2ms/step - loss: 1.3983 - accuracy: 0.5587\n",
      "Epoch 8/10\n",
      "23/23 [==============================] - 0s 2ms/step - loss: 1.3983 - accuracy: 0.5587\n",
      "Epoch 9/10\n",
      "23/23 [==============================] - 0s 2ms/step - loss: 1.3983 - accuracy: 0.5587\n",
      "Epoch 10/10\n",
      "23/23 [==============================] - 0s 2ms/step - loss: 1.3983 - accuracy: 0.5587\n",
      "23/23 [==============================] - 0s 1ms/step\n",
      "6/6 [==============================] - 0s 1ms/step\n",
      "0.6129032258064516\n"
     ]
    }
   ],
   "source": [
    "model = ImbalancedDNNBoost(dnn_loss='focal', dnn_focal_gamma=2.0, xgb_loss='focal', xgb_focal_gamma=0.4)\n",
    "predictions = model.combo(X_train_heart, y_train_heart, X_test_heart, y_test_heart)\n",
    "\n",
    "accuracy = accuracy_score(y_test_heart, predictions)\n",
    "print(accuracy)\n",
    "heart_acc.append(accuracy)"
   ]
  },
  {
   "cell_type": "markdown",
   "metadata": {},
   "source": [
    "### Default | Weighted ###"
   ]
  },
  {
   "cell_type": "code",
   "execution_count": 57,
   "metadata": {},
   "outputs": [
    {
     "name": "stdout",
     "output_type": "stream",
     "text": [
      "Epoch 1/10\n",
      "23/23 [==============================] - 1s 6ms/step - loss: 1.7617 - accuracy: 0.5451\n",
      "Epoch 2/10\n",
      "23/23 [==============================] - 0s 3ms/step - loss: 1.0037 - accuracy: 0.5478\n",
      "Epoch 3/10\n",
      "23/23 [==============================] - 0s 2ms/step - loss: 0.8267 - accuracy: 0.4399\n",
      "Epoch 4/10\n",
      "23/23 [==============================] - 0s 4ms/step - loss: 0.7721 - accuracy: 0.4290\n",
      "Epoch 5/10\n",
      "23/23 [==============================] - 0s 3ms/step - loss: 0.7443 - accuracy: 0.4495\n",
      "Epoch 6/10\n",
      "23/23 [==============================] - 0s 2ms/step - loss: 0.7344 - accuracy: 0.4877\n",
      "Epoch 7/10\n",
      "23/23 [==============================] - 0s 2ms/step - loss: 0.7063 - accuracy: 0.4822\n",
      "Epoch 8/10\n",
      "23/23 [==============================] - 0s 3ms/step - loss: 0.6957 - accuracy: 0.4631\n",
      "Epoch 9/10\n",
      "23/23 [==============================] - 0s 3ms/step - loss: 0.6924 - accuracy: 0.4986\n",
      "Epoch 10/10\n",
      "23/23 [==============================] - 0s 2ms/step - loss: 0.6816 - accuracy: 0.4699\n",
      "23/23 [==============================] - 0s 1ms/step\n",
      "6/6 [==============================] - 0s 2ms/step\n",
      "0.34946236559139787\n"
     ]
    }
   ],
   "source": [
    "model = ImbalancedDNNBoost(xgb_loss='weighted', xgb_weighted_alpha=0.4)\n",
    "predictions = model.combo(X_train_heart, y_train_heart, X_test_heart, y_test_heart)\n",
    "\n",
    "accuracy = accuracy_score(y_test_heart, predictions)\n",
    "print(accuracy)\n",
    "heart_acc.append(accuracy)"
   ]
  },
  {
   "cell_type": "markdown",
   "metadata": {},
   "source": [
    "### Default | Focal ###"
   ]
  },
  {
   "cell_type": "code",
   "execution_count": 58,
   "metadata": {},
   "outputs": [
    {
     "name": "stdout",
     "output_type": "stream",
     "text": [
      "Epoch 1/10\n",
      "23/23 [==============================] - 1s 2ms/step - loss: 15.0365 - accuracy: 0.4440\n",
      "Epoch 2/10\n",
      "23/23 [==============================] - 0s 2ms/step - loss: 5.1294 - accuracy: 0.5068\n",
      "Epoch 3/10\n",
      "23/23 [==============================] - 0s 2ms/step - loss: 3.1986 - accuracy: 0.5369\n",
      "Epoch 4/10\n",
      "23/23 [==============================] - 0s 2ms/step - loss: 1.8305 - accuracy: 0.5178\n",
      "Epoch 5/10\n",
      "23/23 [==============================] - 0s 2ms/step - loss: 1.1094 - accuracy: 0.5902\n",
      "Epoch 6/10\n",
      "23/23 [==============================] - 0s 2ms/step - loss: 0.9620 - accuracy: 0.6257\n",
      "Epoch 7/10\n",
      "23/23 [==============================] - 0s 2ms/step - loss: 0.8747 - accuracy: 0.6393\n",
      "Epoch 8/10\n",
      "23/23 [==============================] - 0s 2ms/step - loss: 0.7866 - accuracy: 0.6721\n",
      "Epoch 9/10\n",
      "23/23 [==============================] - 0s 2ms/step - loss: 0.7147 - accuracy: 0.7063\n",
      "Epoch 10/10\n",
      "23/23 [==============================] - 0s 3ms/step - loss: 0.6856 - accuracy: 0.7022\n",
      "23/23 [==============================] - 0s 2ms/step\n",
      "6/6 [==============================] - 0s 2ms/step\n",
      "0.8387096774193549\n"
     ]
    }
   ],
   "source": [
    "model = ImbalancedDNNBoost(xgb_loss='focal', xgb_focal_gamma=2.0)\n",
    "predictions = model.combo(X_train_heart, y_train_heart, X_test_heart, y_test_heart)\n",
    "\n",
    "accuracy = accuracy_score(y_test_heart, predictions)\n",
    "print(accuracy)\n",
    "heart_acc.append(accuracy)"
   ]
  },
  {
   "cell_type": "markdown",
   "metadata": {},
   "source": [
    "### Weighted | Default ###"
   ]
  },
  {
   "cell_type": "code",
   "execution_count": 59,
   "metadata": {},
   "outputs": [
    {
     "name": "stdout",
     "output_type": "stream",
     "text": [
      "Epoch 1/10\n",
      "23/23 [==============================] - 1s 3ms/step - loss: 7.0143 - accuracy: 0.5669\n",
      "Epoch 2/10\n",
      "23/23 [==============================] - 0s 2ms/step - loss: 4.9807 - accuracy: 0.6311\n",
      "Epoch 3/10\n",
      "23/23 [==============================] - 0s 2ms/step - loss: 3.9599 - accuracy: 0.5601\n",
      "Epoch 4/10\n",
      "23/23 [==============================] - 0s 2ms/step - loss: 3.8886 - accuracy: 0.5383\n",
      "Epoch 5/10\n",
      "23/23 [==============================] - 0s 2ms/step - loss: 3.8786 - accuracy: 0.5464\n",
      "Epoch 6/10\n",
      "23/23 [==============================] - 0s 2ms/step - loss: 3.8941 - accuracy: 0.5478\n",
      "Epoch 7/10\n",
      "23/23 [==============================] - 0s 2ms/step - loss: 3.8731 - accuracy: 0.5505\n",
      "Epoch 8/10\n",
      "23/23 [==============================] - 0s 2ms/step - loss: 3.8720 - accuracy: 0.5519\n",
      "Epoch 9/10\n",
      "23/23 [==============================] - 0s 2ms/step - loss: 3.8737 - accuracy: 0.5396\n",
      "Epoch 10/10\n",
      "23/23 [==============================] - 0s 2ms/step - loss: 3.8719 - accuracy: 0.5533\n",
      "23/23 [==============================] - 0s 2ms/step\n",
      "6/6 [==============================] - 0s 2ms/step\n",
      "0.8279569892473119\n"
     ]
    }
   ],
   "source": [
    "model = ImbalancedDNNBoost(dnn_loss='weighted', dnn_weighted_alpha=0.4)\n",
    "predictions = model.combo(X_train_heart, y_train_heart, X_test_heart, y_test_heart)\n",
    "\n",
    "accuracy = accuracy_score(y_test_heart, predictions)\n",
    "print(accuracy)\n",
    "heart_acc.append(accuracy)"
   ]
  },
  {
   "cell_type": "markdown",
   "metadata": {},
   "source": [
    "### Focal | Default ###"
   ]
  },
  {
   "cell_type": "code",
   "execution_count": 60,
   "metadata": {},
   "outputs": [
    {
     "name": "stdout",
     "output_type": "stream",
     "text": [
      "Epoch 1/10\n",
      "23/23 [==============================] - 2s 2ms/step - loss: 1.4057 - accuracy: 0.4139\n",
      "Epoch 2/10\n",
      "23/23 [==============================] - 0s 3ms/step - loss: 1.4056 - accuracy: 0.4139\n",
      "Epoch 3/10\n",
      "23/23 [==============================] - 0s 3ms/step - loss: 1.4108 - accuracy: 0.4495\n",
      "Epoch 4/10\n",
      "23/23 [==============================] - 0s 2ms/step - loss: 1.3856 - accuracy: 0.5519\n",
      "Epoch 5/10\n",
      "23/23 [==============================] - 0s 3ms/step - loss: 1.4060 - accuracy: 0.4153\n",
      "Epoch 6/10\n",
      "23/23 [==============================] - 0s 2ms/step - loss: 1.4057 - accuracy: 0.4139\n",
      "Epoch 7/10\n",
      "23/23 [==============================] - 0s 2ms/step - loss: 1.4057 - accuracy: 0.4139\n",
      "Epoch 8/10\n",
      "23/23 [==============================] - 0s 2ms/step - loss: 1.4051 - accuracy: 0.4139\n",
      "Epoch 9/10\n",
      "23/23 [==============================] - 0s 2ms/step - loss: 0.8412 - accuracy: 0.4440\n",
      "Epoch 10/10\n",
      "23/23 [==============================] - 0s 2ms/step - loss: 0.5585 - accuracy: 0.4413\n",
      "23/23 [==============================] - 0s 1ms/step\n",
      "6/6 [==============================] - 0s 2ms/step\n",
      "0.8225806451612904\n"
     ]
    }
   ],
   "source": [
    "model = ImbalancedDNNBoost(dnn_loss='focal', dnn_focal_gamma=2.0)\n",
    "predictions = model.combo(X_train_heart, y_train_heart, X_test_heart, y_test_heart)\n",
    "\n",
    "accuracy = accuracy_score(y_test_heart, predictions)\n",
    "print(accuracy)\n",
    "heart_acc.append(accuracy)"
   ]
  },
  {
   "cell_type": "markdown",
   "metadata": {},
   "source": [
    "### Weighted | Focal ###"
   ]
  },
  {
   "cell_type": "code",
   "execution_count": 61,
   "metadata": {},
   "outputs": [
    {
     "name": "stdout",
     "output_type": "stream",
     "text": [
      "Epoch 1/10\n",
      "23/23 [==============================] - 1s 2ms/step - loss: 3.8561 - accuracy: 0.5178\n",
      "Epoch 2/10\n",
      "23/23 [==============================] - 0s 2ms/step - loss: 3.8095 - accuracy: 0.5779\n",
      "Epoch 3/10\n",
      "23/23 [==============================] - 0s 2ms/step - loss: 3.8074 - accuracy: 0.5615\n",
      "Epoch 4/10\n",
      "23/23 [==============================] - 0s 2ms/step - loss: 3.8101 - accuracy: 0.5833\n",
      "Epoch 5/10\n",
      "23/23 [==============================] - 0s 2ms/step - loss: 3.8040 - accuracy: 0.5656\n",
      "Epoch 6/10\n",
      "23/23 [==============================] - 0s 2ms/step - loss: 3.8188 - accuracy: 0.5792\n",
      "Epoch 7/10\n",
      "23/23 [==============================] - 0s 2ms/step - loss: 3.8279 - accuracy: 0.5369\n",
      "Epoch 8/10\n",
      "23/23 [==============================] - 0s 2ms/step - loss: 3.8084 - accuracy: 0.5833\n",
      "Epoch 9/10\n",
      "23/23 [==============================] - 0s 2ms/step - loss: 3.8057 - accuracy: 0.5533\n",
      "Epoch 10/10\n",
      "23/23 [==============================] - 0s 2ms/step - loss: 3.8060 - accuracy: 0.5751\n",
      "23/23 [==============================] - 0s 1ms/step\n",
      "6/6 [==============================] - 0s 2ms/step\n",
      "0.8118279569892473\n"
     ]
    }
   ],
   "source": [
    "model = ImbalancedDNNBoost(dnn_loss='weighted', dnn_weighted_alpha=0.4, xgb_loss='focal', xgb_focal_gamma=2.0)\n",
    "predictions = model.combo(X_train_heart, y_train_heart, X_test_heart, y_test_heart)\n",
    "\n",
    "accuracy = accuracy_score(y_test_heart, predictions)\n",
    "print(accuracy)\n",
    "heart_acc.append(accuracy)"
   ]
  },
  {
   "cell_type": "markdown",
   "metadata": {},
   "source": [
    "### Focal | Weighted ###"
   ]
  },
  {
   "cell_type": "code",
   "execution_count": 62,
   "metadata": {},
   "outputs": [
    {
     "name": "stdout",
     "output_type": "stream",
     "text": [
      "Epoch 1/10\n",
      "23/23 [==============================] - 2s 2ms/step - loss: 1.3983 - accuracy: 0.5587\n",
      "Epoch 2/10\n",
      "23/23 [==============================] - 0s 2ms/step - loss: 1.3983 - accuracy: 0.5587\n",
      "Epoch 3/10\n",
      "23/23 [==============================] - 0s 2ms/step - loss: 1.3983 - accuracy: 0.5587\n",
      "Epoch 4/10\n",
      "23/23 [==============================] - 0s 2ms/step - loss: 1.3983 - accuracy: 0.5587\n",
      "Epoch 5/10\n",
      "23/23 [==============================] - 0s 2ms/step - loss: 1.3983 - accuracy: 0.5587\n",
      "Epoch 6/10\n",
      "23/23 [==============================] - 0s 2ms/step - loss: 1.3983 - accuracy: 0.5587\n",
      "Epoch 7/10\n",
      "23/23 [==============================] - 0s 2ms/step - loss: 1.3983 - accuracy: 0.5587\n",
      "Epoch 8/10\n",
      "23/23 [==============================] - 0s 2ms/step - loss: 1.3983 - accuracy: 0.5587\n",
      "Epoch 9/10\n",
      "23/23 [==============================] - 0s 2ms/step - loss: 1.3983 - accuracy: 0.5587\n",
      "Epoch 10/10\n",
      "23/23 [==============================] - 0s 2ms/step - loss: 1.3983 - accuracy: 0.5587\n",
      "23/23 [==============================] - 0s 1ms/step\n",
      "6/6 [==============================] - 0s 2ms/step\n",
      "0.42473118279569894\n"
     ]
    }
   ],
   "source": [
    "model = ImbalancedDNNBoost(dnn_loss='focal', dnn_focal_gamma=2.0, xgb_loss='weighted', xgb_weighted_alpha=0.4)\n",
    "predictions = model.combo(X_train_heart, y_train_heart, X_test_heart, y_test_heart)\n",
    "\n",
    "accuracy = accuracy_score(y_test_heart, predictions)\n",
    "print(accuracy)\n",
    "heart_acc.append(accuracy)"
   ]
  },
  {
   "cell_type": "markdown",
   "metadata": {},
   "source": [
    "## Sonar Mine ##"
   ]
  },
  {
   "cell_type": "code",
   "execution_count": 63,
   "metadata": {},
   "outputs": [
    {
     "name": "stderr",
     "output_type": "stream",
     "text": [
      "/Users/alexnemecek/Desktop/Machine Learning/csds440project-f23-4/ajn98-boosting/data.py:55: Warning: If there are no headers in the file, then this function assumes that the labels are in the final column and everything before is data. Please verify that your dataset takes this form before moving forward.\n",
      "  warnings.warn(\"If there are no headers in the file, then this function assumes that the labels are in the final column and everything before is data. Please verify that your dataset takes this form before moving forward.\", Warning)\n"
     ]
    }
   ],
   "source": [
    "X_sonar, y_sonar = data.get_sonar_mines()\n",
    "X_train_sonar, y_train_sonar, X_test_sonar, y_test_sonar = data.cv_split(X=X_sonar, y=y_sonar, folds=5, stratified=True)[0]"
   ]
  },
  {
   "cell_type": "markdown",
   "metadata": {},
   "source": [
    "### Default | Default ###"
   ]
  },
  {
   "cell_type": "code",
   "execution_count": 64,
   "metadata": {},
   "outputs": [
    {
     "name": "stdout",
     "output_type": "stream",
     "text": [
      "Epoch 1/10\n",
      "6/6 [==============================] - 1s 4ms/step - loss: 0.7321 - accuracy: 0.5549\n",
      "Epoch 2/10\n",
      "6/6 [==============================] - 0s 3ms/step - loss: 0.7161 - accuracy: 0.5488\n",
      "Epoch 3/10\n",
      "6/6 [==============================] - 0s 4ms/step - loss: 0.7065 - accuracy: 0.5183\n",
      "Epoch 4/10\n",
      "6/6 [==============================] - 0s 3ms/step - loss: 0.6975 - accuracy: 0.5061\n",
      "Epoch 5/10\n",
      "6/6 [==============================] - 0s 2ms/step - loss: 0.6927 - accuracy: 0.5183\n",
      "Epoch 6/10\n",
      "6/6 [==============================] - 0s 2ms/step - loss: 0.6892 - accuracy: 0.5244\n",
      "Epoch 7/10\n",
      "6/6 [==============================] - 0s 2ms/step - loss: 0.6846 - accuracy: 0.5183\n",
      "Epoch 8/10\n",
      "6/6 [==============================] - 0s 2ms/step - loss: 0.6813 - accuracy: 0.5244\n",
      "Epoch 9/10\n",
      "6/6 [==============================] - 0s 2ms/step - loss: 0.6785 - accuracy: 0.5244\n",
      "Epoch 10/10\n",
      "6/6 [==============================] - 0s 2ms/step - loss: 0.6751 - accuracy: 0.5549\n",
      "6/6 [==============================] - 0s 1ms/step\n",
      "2/2 [==============================] - 0s 4ms/step\n",
      "0.6136363636363636\n"
     ]
    }
   ],
   "source": [
    "model = ImbalancedDNNBoost()\n",
    "predictions = model.combo(X_train_sonar, y_train_sonar, X_test_sonar, y_test_sonar)\n",
    "\n",
    "accuracy = accuracy_score(y_test_sonar, predictions)\n",
    "print(accuracy)\n",
    "sonar_acc.append(accuracy)"
   ]
  },
  {
   "cell_type": "markdown",
   "metadata": {},
   "source": [
    "### Weighted | Weighted ###"
   ]
  },
  {
   "cell_type": "code",
   "execution_count": 65,
   "metadata": {},
   "outputs": [
    {
     "name": "stdout",
     "output_type": "stream",
     "text": [
      "Epoch 1/10\n",
      "6/6 [==============================] - 1s 3ms/step - loss: 4.6947 - accuracy: 0.4756\n",
      "Epoch 2/10\n",
      "6/6 [==============================] - 0s 3ms/step - loss: 4.6599 - accuracy: 0.4878\n",
      "Epoch 3/10\n",
      "6/6 [==============================] - 0s 2ms/step - loss: 4.6218 - accuracy: 0.4878\n",
      "Epoch 4/10\n",
      "6/6 [==============================] - 0s 2ms/step - loss: 4.5788 - accuracy: 0.4878\n",
      "Epoch 5/10\n",
      "6/6 [==============================] - 0s 2ms/step - loss: 4.5241 - accuracy: 0.4878\n",
      "Epoch 6/10\n",
      "6/6 [==============================] - 0s 3ms/step - loss: 4.4602 - accuracy: 0.4878\n",
      "Epoch 7/10\n",
      "6/6 [==============================] - 0s 4ms/step - loss: 4.3908 - accuracy: 0.4878\n",
      "Epoch 8/10\n",
      "6/6 [==============================] - 0s 3ms/step - loss: 4.3236 - accuracy: 0.4878\n",
      "Epoch 9/10\n",
      "6/6 [==============================] - 0s 3ms/step - loss: 4.2697 - accuracy: 0.4878\n",
      "Epoch 10/10\n",
      "6/6 [==============================] - 0s 3ms/step - loss: 4.2257 - accuracy: 0.4878\n",
      "6/6 [==============================] - 0s 1ms/step\n",
      "2/2 [==============================] - 0s 5ms/step\n",
      "0.4318181818181818\n"
     ]
    }
   ],
   "source": [
    "model = ImbalancedDNNBoost(dnn_loss='weighted', dnn_weighted_alpha=0.4, xgb_loss='weighted', xgb_weighted_alpha=0.4)\n",
    "predictions = model.combo(X_train_sonar, y_train_sonar, X_test_sonar, y_test_sonar)\n",
    "\n",
    "accuracy = accuracy_score(y_test_sonar, predictions)\n",
    "print(accuracy)\n",
    "sonar_acc.append(accuracy)"
   ]
  },
  {
   "cell_type": "markdown",
   "metadata": {},
   "source": [
    "### Focal | Focal ###"
   ]
  },
  {
   "cell_type": "code",
   "execution_count": 66,
   "metadata": {},
   "outputs": [
    {
     "name": "stdout",
     "output_type": "stream",
     "text": [
      "Epoch 1/10\n",
      "6/6 [==============================] - 2s 2ms/step - loss: 0.7907 - accuracy: 0.5122\n",
      "Epoch 2/10\n",
      "6/6 [==============================] - 0s 2ms/step - loss: 0.7516 - accuracy: 0.5000\n",
      "Epoch 3/10\n",
      "6/6 [==============================] - 0s 2ms/step - loss: 0.7261 - accuracy: 0.4207\n",
      "Epoch 4/10\n",
      "6/6 [==============================] - 0s 2ms/step - loss: 0.7141 - accuracy: 0.4512\n",
      "Epoch 5/10\n",
      "6/6 [==============================] - 0s 2ms/step - loss: 0.7086 - accuracy: 0.4817\n",
      "Epoch 6/10\n",
      "6/6 [==============================] - 0s 2ms/step - loss: 0.7038 - accuracy: 0.4756\n",
      "Epoch 7/10\n",
      "6/6 [==============================] - 0s 2ms/step - loss: 0.6988 - accuracy: 0.4878\n",
      "Epoch 8/10\n",
      "6/6 [==============================] - 0s 3ms/step - loss: 0.6939 - accuracy: 0.4878\n",
      "Epoch 9/10\n",
      "6/6 [==============================] - 0s 3ms/step - loss: 0.6886 - accuracy: 0.4878\n",
      "Epoch 10/10\n",
      "6/6 [==============================] - 0s 3ms/step - loss: 0.6835 - accuracy: 0.4878\n",
      "6/6 [==============================] - 0s 2ms/step\n",
      "2/2 [==============================] - 0s 2ms/step\n",
      "0.6136363636363636\n"
     ]
    }
   ],
   "source": [
    "model = ImbalancedDNNBoost(dnn_loss='focal', dnn_focal_gamma=2.0, xgb_loss='focal', xgb_focal_gamma=2.0)\n",
    "predictions = model.combo(X_train_sonar, y_train_sonar, X_test_sonar, y_test_sonar)\n",
    "\n",
    "accuracy = accuracy_score(y_test_sonar, predictions)\n",
    "print(accuracy)\n",
    "sonar_acc.append(accuracy)"
   ]
  },
  {
   "cell_type": "markdown",
   "metadata": {},
   "source": [
    "### Default | Weighted ###"
   ]
  },
  {
   "cell_type": "code",
   "execution_count": 67,
   "metadata": {},
   "outputs": [
    {
     "name": "stdout",
     "output_type": "stream",
     "text": [
      "Epoch 1/10\n",
      "6/6 [==============================] - 1s 3ms/step - loss: 0.7055 - accuracy: 0.4878\n",
      "Epoch 2/10\n",
      "6/6 [==============================] - 0s 2ms/step - loss: 0.6902 - accuracy: 0.4878\n",
      "Epoch 3/10\n",
      "6/6 [==============================] - 0s 2ms/step - loss: 0.6851 - accuracy: 0.5122\n",
      "Epoch 4/10\n",
      "6/6 [==============================] - 0s 3ms/step - loss: 0.6806 - accuracy: 0.5549\n",
      "Epoch 5/10\n",
      "6/6 [==============================] - 0s 3ms/step - loss: 0.6776 - accuracy: 0.5549\n",
      "Epoch 6/10\n",
      "6/6 [==============================] - 0s 2ms/step - loss: 0.6739 - accuracy: 0.5732\n",
      "Epoch 7/10\n",
      "6/6 [==============================] - 0s 2ms/step - loss: 0.6709 - accuracy: 0.6220\n",
      "Epoch 8/10\n",
      "6/6 [==============================] - 0s 2ms/step - loss: 0.6667 - accuracy: 0.6768\n",
      "Epoch 9/10\n",
      "6/6 [==============================] - 0s 2ms/step - loss: 0.6624 - accuracy: 0.6890\n",
      "Epoch 10/10\n",
      "6/6 [==============================] - 0s 2ms/step - loss: 0.6582 - accuracy: 0.7195\n",
      "6/6 [==============================] - 0s 1ms/step\n",
      "2/2 [==============================] - 0s 5ms/step\n",
      "0.5227272727272727\n"
     ]
    }
   ],
   "source": [
    "model = ImbalancedDNNBoost(xgb_loss='weighted', xgb_weighted_alpha=0.4)\n",
    "predictions = model.combo(X_train_sonar, y_train_sonar, X_test_sonar, y_test_sonar)\n",
    "\n",
    "accuracy = accuracy_score(y_test_sonar, predictions)\n",
    "print(accuracy)\n",
    "sonar_acc.append(accuracy)"
   ]
  },
  {
   "cell_type": "markdown",
   "metadata": {},
   "source": [
    "### Default | Focal ###"
   ]
  },
  {
   "cell_type": "code",
   "execution_count": 68,
   "metadata": {},
   "outputs": [
    {
     "name": "stdout",
     "output_type": "stream",
     "text": [
      "Epoch 1/10\n",
      "6/6 [==============================] - 1s 3ms/step - loss: 0.6849 - accuracy: 0.5183\n",
      "Epoch 2/10\n",
      "6/6 [==============================] - 0s 3ms/step - loss: 0.6820 - accuracy: 0.5183\n",
      "Epoch 3/10\n",
      "6/6 [==============================] - 0s 3ms/step - loss: 0.6801 - accuracy: 0.5183\n",
      "Epoch 4/10\n",
      "6/6 [==============================] - 0s 3ms/step - loss: 0.6785 - accuracy: 0.5183\n",
      "Epoch 5/10\n",
      "6/6 [==============================] - 0s 3ms/step - loss: 0.6762 - accuracy: 0.5122\n",
      "Epoch 6/10\n",
      "6/6 [==============================] - 0s 3ms/step - loss: 0.6755 - accuracy: 0.5122\n",
      "Epoch 7/10\n",
      "6/6 [==============================] - 0s 4ms/step - loss: 0.6738 - accuracy: 0.5183\n",
      "Epoch 8/10\n",
      "6/6 [==============================] - 0s 2ms/step - loss: 0.6727 - accuracy: 0.5183\n",
      "Epoch 9/10\n",
      "6/6 [==============================] - 0s 3ms/step - loss: 0.6714 - accuracy: 0.5183\n",
      "Epoch 10/10\n",
      "6/6 [==============================] - 0s 3ms/step - loss: 0.6701 - accuracy: 0.5183\n",
      "6/6 [==============================] - 0s 2ms/step\n",
      "2/2 [==============================] - 0s 2ms/step\n",
      "0.6590909090909091\n"
     ]
    }
   ],
   "source": [
    "model = ImbalancedDNNBoost(xgb_loss='focal', xgb_focal_gamma=2.0)\n",
    "predictions = model.combo(X_train_sonar, y_train_sonar, X_test_sonar, y_test_sonar)\n",
    "\n",
    "accuracy = accuracy_score(y_test_sonar, predictions)\n",
    "print(accuracy)\n",
    "sonar_acc.append(accuracy)"
   ]
  },
  {
   "cell_type": "markdown",
   "metadata": {},
   "source": [
    "### Weighted | Default ###"
   ]
  },
  {
   "cell_type": "code",
   "execution_count": 69,
   "metadata": {},
   "outputs": [
    {
     "name": "stdout",
     "output_type": "stream",
     "text": [
      "Epoch 1/10\n",
      "6/6 [==============================] - 1s 3ms/step - loss: 4.6230 - accuracy: 0.5000\n",
      "Epoch 2/10\n",
      "6/6 [==============================] - 0s 4ms/step - loss: 4.5386 - accuracy: 0.4878\n",
      "Epoch 3/10\n",
      "6/6 [==============================] - 0s 3ms/step - loss: 4.4585 - accuracy: 0.4878\n",
      "Epoch 4/10\n",
      "6/6 [==============================] - 0s 3ms/step - loss: 4.3764 - accuracy: 0.4878\n",
      "Epoch 5/10\n",
      "6/6 [==============================] - 0s 2ms/step - loss: 4.2980 - accuracy: 0.4878\n",
      "Epoch 6/10\n",
      "6/6 [==============================] - 0s 2ms/step - loss: 4.2299 - accuracy: 0.4878\n",
      "Epoch 7/10\n",
      "6/6 [==============================] - 0s 3ms/step - loss: 4.1758 - accuracy: 0.4878\n",
      "Epoch 8/10\n",
      "6/6 [==============================] - 0s 3ms/step - loss: 4.1296 - accuracy: 0.4878\n",
      "Epoch 9/10\n",
      "6/6 [==============================] - 0s 2ms/step - loss: 4.1046 - accuracy: 0.4878\n",
      "Epoch 10/10\n",
      "6/6 [==============================] - 0s 2ms/step - loss: 4.0803 - accuracy: 0.4878\n",
      "6/6 [==============================] - 0s 1ms/step\n",
      "2/2 [==============================] - 0s 3ms/step\n",
      "0.6136363636363636\n"
     ]
    }
   ],
   "source": [
    "model = ImbalancedDNNBoost(dnn_loss='weighted', dnn_focal_gamma=0.4)\n",
    "predictions = model.combo(X_train_sonar, y_train_sonar, X_test_sonar, y_test_sonar)\n",
    "\n",
    "accuracy = accuracy_score(y_test_sonar, predictions)\n",
    "print(accuracy)\n",
    "sonar_acc.append(accuracy)"
   ]
  },
  {
   "cell_type": "markdown",
   "metadata": {},
   "source": [
    "### Focal | Default ###"
   ]
  },
  {
   "cell_type": "code",
   "execution_count": 70,
   "metadata": {},
   "outputs": [
    {
     "name": "stdout",
     "output_type": "stream",
     "text": [
      "Epoch 1/10\n",
      "6/6 [==============================] - 2s 3ms/step - loss: 0.7874 - accuracy: 0.5122\n",
      "Epoch 2/10\n",
      "6/6 [==============================] - 0s 3ms/step - loss: 0.7628 - accuracy: 0.5122\n",
      "Epoch 3/10\n",
      "6/6 [==============================] - 0s 4ms/step - loss: 0.7420 - accuracy: 0.5122\n",
      "Epoch 4/10\n",
      "6/6 [==============================] - 0s 3ms/step - loss: 0.7283 - accuracy: 0.5854\n",
      "Epoch 5/10\n",
      "6/6 [==============================] - 0s 3ms/step - loss: 0.7180 - accuracy: 0.4756\n",
      "Epoch 6/10\n",
      "6/6 [==============================] - 0s 3ms/step - loss: 0.7087 - accuracy: 0.4756\n",
      "Epoch 7/10\n",
      "6/6 [==============================] - 0s 3ms/step - loss: 0.7006 - accuracy: 0.4878\n",
      "Epoch 8/10\n",
      "6/6 [==============================] - 0s 3ms/step - loss: 0.6912 - accuracy: 0.4878\n",
      "Epoch 9/10\n",
      "6/6 [==============================] - 0s 3ms/step - loss: 0.6810 - accuracy: 0.4878\n",
      "Epoch 10/10\n",
      "6/6 [==============================] - 0s 3ms/step - loss: 0.6655 - accuracy: 0.4878\n",
      "6/6 [==============================] - 0s 2ms/step\n",
      "2/2 [==============================] - 0s 2ms/step\n",
      "0.6363636363636364\n"
     ]
    }
   ],
   "source": [
    "model = ImbalancedDNNBoost(dnn_loss='focal', dnn_focal_gamma=2.0)\n",
    "predictions = model.combo(X_train_sonar, y_train_sonar, X_test_sonar, y_test_sonar)\n",
    "\n",
    "accuracy = accuracy_score(y_test_sonar, predictions)\n",
    "print(accuracy)\n",
    "sonar_acc.append(accuracy)"
   ]
  },
  {
   "cell_type": "markdown",
   "metadata": {},
   "source": [
    "### Weighted | Focal ###"
   ]
  },
  {
   "cell_type": "code",
   "execution_count": 71,
   "metadata": {},
   "outputs": [
    {
     "name": "stdout",
     "output_type": "stream",
     "text": [
      "Epoch 1/10\n",
      "6/6 [==============================] - 1s 3ms/step - loss: 4.8064 - accuracy: 0.4878\n",
      "Epoch 2/10\n",
      "6/6 [==============================] - 0s 2ms/step - loss: 4.7408 - accuracy: 0.4390\n",
      "Epoch 3/10\n",
      "6/6 [==============================] - 0s 3ms/step - loss: 4.6780 - accuracy: 0.4939\n",
      "Epoch 4/10\n",
      "6/6 [==============================] - 0s 2ms/step - loss: 4.6216 - accuracy: 0.4939\n",
      "Epoch 5/10\n",
      "6/6 [==============================] - 0s 2ms/step - loss: 4.5623 - accuracy: 0.4878\n",
      "Epoch 6/10\n",
      "6/6 [==============================] - 0s 2ms/step - loss: 4.5077 - accuracy: 0.4878\n",
      "Epoch 7/10\n",
      "6/6 [==============================] - 0s 2ms/step - loss: 4.4515 - accuracy: 0.4878\n",
      "Epoch 8/10\n",
      "6/6 [==============================] - 0s 2ms/step - loss: 4.3995 - accuracy: 0.4878\n",
      "Epoch 9/10\n",
      "6/6 [==============================] - 0s 2ms/step - loss: 4.3418 - accuracy: 0.4878\n",
      "Epoch 10/10\n",
      "6/6 [==============================] - 0s 2ms/step - loss: 4.2858 - accuracy: 0.4878\n",
      "6/6 [==============================] - 0s 3ms/step\n",
      "2/2 [==============================] - 0s 3ms/step\n",
      "0.6136363636363636\n"
     ]
    }
   ],
   "source": [
    "model = ImbalancedDNNBoost(dnn_loss='weighted', dnn_focal_gamma=0.4, xgb_loss='focal', xgb_weighted_alpha=2.0)\n",
    "predictions = model.combo(X_train_sonar, y_train_sonar, X_test_sonar, y_test_sonar)\n",
    "\n",
    "accuracy = accuracy_score(y_test_sonar, predictions)\n",
    "print(accuracy)\n",
    "sonar_acc.append(accuracy)"
   ]
  },
  {
   "cell_type": "markdown",
   "metadata": {},
   "source": [
    "### Focal | Weighted ###"
   ]
  },
  {
   "cell_type": "code",
   "execution_count": 72,
   "metadata": {},
   "outputs": [
    {
     "name": "stdout",
     "output_type": "stream",
     "text": [
      "Epoch 1/10\n",
      "6/6 [==============================] - 2s 4ms/step - loss: 0.7116 - accuracy: 0.5244\n",
      "Epoch 2/10\n",
      "6/6 [==============================] - 0s 3ms/step - loss: 0.6826 - accuracy: 0.4817\n",
      "Epoch 3/10\n",
      "6/6 [==============================] - 0s 6ms/step - loss: 0.6566 - accuracy: 0.4878\n",
      "Epoch 4/10\n",
      "6/6 [==============================] - 0s 5ms/step - loss: 0.6335 - accuracy: 0.4878\n",
      "Epoch 5/10\n",
      "6/6 [==============================] - 0s 5ms/step - loss: 0.6146 - accuracy: 0.4878\n",
      "Epoch 6/10\n",
      "6/6 [==============================] - 0s 3ms/step - loss: 0.6002 - accuracy: 0.4878\n",
      "Epoch 7/10\n",
      "6/6 [==============================] - 0s 3ms/step - loss: 0.5904 - accuracy: 0.4878\n",
      "Epoch 8/10\n",
      "6/6 [==============================] - 0s 3ms/step - loss: 0.5830 - accuracy: 0.4878\n",
      "Epoch 9/10\n",
      "6/6 [==============================] - 0s 3ms/step - loss: 0.5782 - accuracy: 0.4878\n",
      "Epoch 10/10\n",
      "6/6 [==============================] - 0s 3ms/step - loss: 0.5750 - accuracy: 0.4878\n",
      "6/6 [==============================] - 0s 2ms/step\n",
      "2/2 [==============================] - 0s 4ms/step\n",
      "0.4090909090909091\n"
     ]
    }
   ],
   "source": [
    "model = ImbalancedDNNBoost(dnn_loss='focal', dnn_focal_gamma=2.0, xgb_loss='weighted', xgb_weighted_alpha=0.4)\n",
    "predictions = model.combo(X_train_sonar, y_train_sonar, X_test_sonar, y_test_sonar)\n",
    "\n",
    "accuracy = accuracy_score(y_test_sonar, predictions)\n",
    "print(accuracy)\n",
    "sonar_acc.append(accuracy)"
   ]
  },
  {
   "cell_type": "markdown",
   "metadata": {},
   "source": [
    "## Pima Diabetes ##"
   ]
  },
  {
   "cell_type": "code",
   "execution_count": 73,
   "metadata": {},
   "outputs": [],
   "source": [
    "X_diabetes, y_diabetes = data.get_pima_diabetes()\n",
    "X_train_diabetes, y_train_diabetes, X_test_diabetes, y_test_diabetes = data.cv_split(X=X_diabetes, y=y_diabetes, folds=5, stratified=True)[0]"
   ]
  },
  {
   "cell_type": "markdown",
   "metadata": {},
   "source": [
    "### Default | Default ###"
   ]
  },
  {
   "cell_type": "code",
   "execution_count": 74,
   "metadata": {},
   "outputs": [
    {
     "name": "stdout",
     "output_type": "stream",
     "text": [
      "Epoch 1/10\n",
      "20/20 [==============================] - 2s 2ms/step - loss: 5.8250 - accuracy: 0.6585\n",
      "Epoch 2/10\n",
      "20/20 [==============================] - 0s 3ms/step - loss: 1.6259 - accuracy: 0.5866\n",
      "Epoch 3/10\n",
      "20/20 [==============================] - 0s 2ms/step - loss: 0.8943 - accuracy: 0.5082\n",
      "Epoch 4/10\n",
      "20/20 [==============================] - 0s 2ms/step - loss: 0.8519 - accuracy: 0.4592\n",
      "Epoch 5/10\n",
      "20/20 [==============================] - 0s 2ms/step - loss: 0.8159 - accuracy: 0.4869\n",
      "Epoch 6/10\n",
      "20/20 [==============================] - 0s 2ms/step - loss: 0.7893 - accuracy: 0.5458\n",
      "Epoch 7/10\n",
      "20/20 [==============================] - 0s 2ms/step - loss: 0.7670 - accuracy: 0.6160\n",
      "Epoch 8/10\n",
      "20/20 [==============================] - 0s 2ms/step - loss: 0.7399 - accuracy: 0.6324\n",
      "Epoch 9/10\n",
      "20/20 [==============================] - 0s 2ms/step - loss: 0.7145 - accuracy: 0.6454\n",
      "Epoch 10/10\n",
      "20/20 [==============================] - 0s 2ms/step - loss: 0.6949 - accuracy: 0.6438\n",
      "20/20 [==============================] - 0s 2ms/step\n",
      "5/5 [==============================] - 0s 3ms/step\n",
      "0.7243589743589743\n"
     ]
    }
   ],
   "source": [
    "model = ImbalancedDNNBoost()\n",
    "predictions = model.combo(X_train_diabetes, y_train_diabetes, X_test_diabetes, y_test_diabetes)\n",
    "\n",
    "accuracy = accuracy_score(y_test_diabetes, predictions)\n",
    "print(accuracy)\n",
    "diabetes_acc.append(accuracy)"
   ]
  },
  {
   "cell_type": "markdown",
   "metadata": {},
   "source": [
    "### Weighted | Weighted ###"
   ]
  },
  {
   "cell_type": "code",
   "execution_count": 75,
   "metadata": {},
   "outputs": [
    {
     "name": "stdout",
     "output_type": "stream",
     "text": [
      "Epoch 1/10\n",
      "20/20 [==============================] - 1s 2ms/step - loss: 4.4373 - accuracy: 0.6340\n",
      "Epoch 2/10\n",
      "20/20 [==============================] - 0s 2ms/step - loss: 4.1809 - accuracy: 0.6471\n",
      "Epoch 3/10\n",
      "20/20 [==============================] - 0s 2ms/step - loss: 4.0168 - accuracy: 0.6552\n",
      "Epoch 4/10\n",
      "20/20 [==============================] - 0s 2ms/step - loss: 3.9975 - accuracy: 0.6552\n",
      "Epoch 5/10\n",
      "20/20 [==============================] - 0s 2ms/step - loss: 3.9972 - accuracy: 0.6552\n",
      "Epoch 6/10\n",
      "20/20 [==============================] - 0s 2ms/step - loss: 3.9969 - accuracy: 0.6552\n",
      "Epoch 7/10\n",
      "20/20 [==============================] - 0s 2ms/step - loss: 3.9970 - accuracy: 0.6552\n",
      "Epoch 8/10\n",
      "20/20 [==============================] - 0s 2ms/step - loss: 3.9971 - accuracy: 0.6552\n",
      "Epoch 9/10\n",
      "20/20 [==============================] - 0s 2ms/step - loss: 3.9969 - accuracy: 0.6552\n",
      "Epoch 10/10\n",
      "20/20 [==============================] - 0s 2ms/step - loss: 3.9970 - accuracy: 0.6552\n",
      "20/20 [==============================] - 0s 2ms/step\n",
      "5/5 [==============================] - 0s 2ms/step\n",
      "0.24358974358974358\n"
     ]
    }
   ],
   "source": [
    "model = ImbalancedDNNBoost(dnn_loss='weighted', dnn_weighted_alpha=0.4, xgb_loss='weighted', xgb_weighted_alpha=0.4)\n",
    "predictions = model.combo(X_train_diabetes, y_train_diabetes, X_test_diabetes, y_test_diabetes)\n",
    "\n",
    "accuracy = accuracy_score(y_test_diabetes, predictions)\n",
    "print(accuracy)\n",
    "diabetes_acc.append(accuracy)"
   ]
  },
  {
   "cell_type": "markdown",
   "metadata": {},
   "source": [
    "### Focal | Focal ###"
   ]
  },
  {
   "cell_type": "code",
   "execution_count": 76,
   "metadata": {},
   "outputs": [
    {
     "name": "stdout",
     "output_type": "stream",
     "text": [
      "Epoch 1/10\n",
      "20/20 [==============================] - 2s 2ms/step - loss: 1.9624 - accuracy: 0.3464\n",
      "Epoch 2/10\n",
      "20/20 [==============================] - 0s 2ms/step - loss: 1.9413 - accuracy: 0.3513\n",
      "Epoch 3/10\n",
      "20/20 [==============================] - 0s 2ms/step - loss: 1.1215 - accuracy: 0.5441\n",
      "Epoch 4/10\n",
      "20/20 [==============================] - 0s 2ms/step - loss: 0.6030 - accuracy: 0.6503\n",
      "Epoch 5/10\n",
      "20/20 [==============================] - 0s 2ms/step - loss: 0.5874 - accuracy: 0.6601\n",
      "Epoch 6/10\n",
      "20/20 [==============================] - 0s 2ms/step - loss: 0.5853 - accuracy: 0.6667\n",
      "Epoch 7/10\n",
      "20/20 [==============================] - 0s 2ms/step - loss: 0.5829 - accuracy: 0.6699\n",
      "Epoch 8/10\n",
      "20/20 [==============================] - 0s 2ms/step - loss: 0.5807 - accuracy: 0.6699\n",
      "Epoch 9/10\n",
      "20/20 [==============================] - 0s 7ms/step - loss: 0.5761 - accuracy: 0.6650\n",
      "Epoch 10/10\n",
      "20/20 [==============================] - 0s 2ms/step - loss: 0.5740 - accuracy: 0.6634\n",
      "20/20 [==============================] - 0s 2ms/step\n",
      "5/5 [==============================] - 0s 2ms/step\n",
      "0.7435897435897436\n"
     ]
    }
   ],
   "source": [
    "model = ImbalancedDNNBoost(dnn_loss='focal', dnn_focal_gamma=2.0, xgb_loss='focal', xgb_focal_gamma=2.0)\n",
    "predictions = model.combo(X_train_diabetes, y_train_diabetes, X_test_diabetes, y_test_diabetes)\n",
    "\n",
    "accuracy = accuracy_score(y_test_diabetes, predictions)\n",
    "print(accuracy)\n",
    "diabetes_acc.append(accuracy)"
   ]
  },
  {
   "cell_type": "markdown",
   "metadata": {},
   "source": [
    "### Default | Weighted ###"
   ]
  },
  {
   "cell_type": "code",
   "execution_count": 77,
   "metadata": {},
   "outputs": [
    {
     "name": "stdout",
     "output_type": "stream",
     "text": [
      "Epoch 1/10\n",
      "20/20 [==============================] - 1s 2ms/step - loss: 20.1687 - accuracy: 0.4052\n",
      "Epoch 2/10\n",
      "20/20 [==============================] - 0s 2ms/step - loss: 11.6932 - accuracy: 0.4281\n",
      "Epoch 3/10\n",
      "20/20 [==============================] - 0s 2ms/step - loss: 6.2802 - accuracy: 0.4052\n",
      "Epoch 4/10\n",
      "20/20 [==============================] - 0s 2ms/step - loss: 2.8996 - accuracy: 0.5033\n",
      "Epoch 5/10\n",
      "20/20 [==============================] - 0s 2ms/step - loss: 1.3909 - accuracy: 0.5392\n",
      "Epoch 6/10\n",
      "20/20 [==============================] - 0s 2ms/step - loss: 0.9460 - accuracy: 0.5948\n",
      "Epoch 7/10\n",
      "20/20 [==============================] - 0s 2ms/step - loss: 0.8439 - accuracy: 0.6160\n",
      "Epoch 8/10\n",
      "20/20 [==============================] - 0s 2ms/step - loss: 0.8071 - accuracy: 0.6127\n",
      "Epoch 9/10\n",
      "20/20 [==============================] - 0s 2ms/step - loss: 0.7815 - accuracy: 0.6127\n",
      "Epoch 10/10\n",
      "20/20 [==============================] - 0s 2ms/step - loss: 0.7596 - accuracy: 0.6373\n",
      "20/20 [==============================] - 0s 2ms/step\n",
      "5/5 [==============================] - 0s 1ms/step\n",
      "0.26282051282051283\n"
     ]
    }
   ],
   "source": [
    "model = ImbalancedDNNBoost(xgb_loss='weighted', xgb_weighted_alpha=0.4)\n",
    "predictions = model.combo(X_train_diabetes, y_train_diabetes, X_test_diabetes, y_test_diabetes)\n",
    "\n",
    "accuracy = accuracy_score(y_test_diabetes, predictions)\n",
    "print(accuracy)\n",
    "diabetes_acc.append(accuracy)"
   ]
  },
  {
   "cell_type": "markdown",
   "metadata": {},
   "source": [
    "### Default | Focal ###"
   ]
  },
  {
   "cell_type": "code",
   "execution_count": 78,
   "metadata": {},
   "outputs": [
    {
     "name": "stdout",
     "output_type": "stream",
     "text": [
      "Epoch 1/10\n",
      "20/20 [==============================] - 1s 4ms/step - loss: 8.6624 - accuracy: 0.6732\n",
      "Epoch 2/10\n",
      "20/20 [==============================] - 0s 4ms/step - loss: 4.4862 - accuracy: 0.6814\n",
      "Epoch 3/10\n",
      "20/20 [==============================] - 0s 2ms/step - loss: 3.5653 - accuracy: 0.6732\n",
      "Epoch 4/10\n",
      "20/20 [==============================] - 0s 2ms/step - loss: 2.9762 - accuracy: 0.6716\n",
      "Epoch 5/10\n",
      "20/20 [==============================] - 0s 2ms/step - loss: 2.5112 - accuracy: 0.6618\n",
      "Epoch 6/10\n",
      "20/20 [==============================] - 0s 2ms/step - loss: 2.2062 - accuracy: 0.6699\n",
      "Epoch 7/10\n",
      "20/20 [==============================] - 0s 3ms/step - loss: 1.9944 - accuracy: 0.6438\n",
      "Epoch 8/10\n",
      "20/20 [==============================] - 0s 3ms/step - loss: 1.8359 - accuracy: 0.6683\n",
      "Epoch 9/10\n",
      "20/20 [==============================] - 0s 2ms/step - loss: 1.7055 - accuracy: 0.6683\n",
      "Epoch 10/10\n",
      "20/20 [==============================] - 0s 2ms/step - loss: 1.5472 - accuracy: 0.6552\n",
      "20/20 [==============================] - 0s 1ms/step\n",
      "5/5 [==============================] - 0s 2ms/step\n",
      "0.7628205128205128\n"
     ]
    }
   ],
   "source": [
    "model = ImbalancedDNNBoost(xgb_loss='focal', xgb_focal_gamma=2.0)\n",
    "predictions = model.combo(X_train_diabetes, y_train_diabetes, X_test_diabetes, y_test_diabetes)\n",
    "\n",
    "accuracy = accuracy_score(y_test_diabetes, predictions)\n",
    "print(accuracy)\n",
    "diabetes_acc.append(accuracy)"
   ]
  },
  {
   "cell_type": "markdown",
   "metadata": {},
   "source": [
    "### Weighted | Default ###"
   ]
  },
  {
   "cell_type": "code",
   "execution_count": 79,
   "metadata": {},
   "outputs": [
    {
     "name": "stdout",
     "output_type": "stream",
     "text": [
      "Epoch 1/10\n",
      "20/20 [==============================] - 1s 2ms/step - loss: 4.0390 - accuracy: 0.6503\n",
      "Epoch 2/10\n",
      "20/20 [==============================] - 0s 2ms/step - loss: 4.0037 - accuracy: 0.6536\n",
      "Epoch 3/10\n",
      "20/20 [==============================] - 0s 2ms/step - loss: 4.0000 - accuracy: 0.6536\n",
      "Epoch 4/10\n",
      "20/20 [==============================] - 0s 2ms/step - loss: 4.0000 - accuracy: 0.6536\n",
      "Epoch 5/10\n",
      "20/20 [==============================] - 0s 2ms/step - loss: 4.0000 - accuracy: 0.6536\n",
      "Epoch 6/10\n",
      "20/20 [==============================] - 0s 2ms/step - loss: 4.0000 - accuracy: 0.6536\n",
      "Epoch 7/10\n",
      "20/20 [==============================] - 0s 2ms/step - loss: 4.0000 - accuracy: 0.6536\n",
      "Epoch 8/10\n",
      "20/20 [==============================] - 0s 2ms/step - loss: 4.0000 - accuracy: 0.6536\n",
      "Epoch 9/10\n",
      "20/20 [==============================] - 0s 2ms/step - loss: 4.0000 - accuracy: 0.6536\n",
      "Epoch 10/10\n",
      "20/20 [==============================] - 0s 2ms/step - loss: 4.0000 - accuracy: 0.6536\n",
      "20/20 [==============================] - 0s 2ms/step\n",
      "5/5 [==============================] - 0s 2ms/step\n",
      "0.6858974358974359\n"
     ]
    }
   ],
   "source": [
    "model = ImbalancedDNNBoost(dnn_loss='weighted', dnn_weighted_alpha=0.4)\n",
    "predictions = model.combo(X_train_diabetes, y_train_diabetes, X_test_diabetes, y_test_diabetes)\n",
    "\n",
    "accuracy = accuracy_score(y_test_diabetes, predictions)\n",
    "print(accuracy)\n",
    "diabetes_acc.append(accuracy)"
   ]
  },
  {
   "cell_type": "markdown",
   "metadata": {},
   "source": [
    "### Focal | Default ###"
   ]
  },
  {
   "cell_type": "code",
   "execution_count": 80,
   "metadata": {},
   "outputs": [
    {
     "name": "stdout",
     "output_type": "stream",
     "text": [
      "Epoch 1/10\n",
      "20/20 [==============================] - 2s 2ms/step - loss: 0.5611 - accuracy: 0.6536\n",
      "Epoch 2/10\n",
      "20/20 [==============================] - 0s 2ms/step - loss: 0.5582 - accuracy: 0.6536\n",
      "Epoch 3/10\n",
      "20/20 [==============================] - 0s 2ms/step - loss: 0.5582 - accuracy: 0.6536\n",
      "Epoch 4/10\n",
      "20/20 [==============================] - 0s 3ms/step - loss: 0.5582 - accuracy: 0.6536\n",
      "Epoch 5/10\n",
      "20/20 [==============================] - 0s 2ms/step - loss: 0.5582 - accuracy: 0.6536\n",
      "Epoch 6/10\n",
      "20/20 [==============================] - 0s 2ms/step - loss: 0.5581 - accuracy: 0.6552\n",
      "Epoch 7/10\n",
      "20/20 [==============================] - 0s 2ms/step - loss: 0.5581 - accuracy: 0.6552\n",
      "Epoch 8/10\n",
      "20/20 [==============================] - 0s 2ms/step - loss: 0.5581 - accuracy: 0.6552\n",
      "Epoch 9/10\n",
      "20/20 [==============================] - 0s 2ms/step - loss: 0.5581 - accuracy: 0.6552\n",
      "Epoch 10/10\n",
      "20/20 [==============================] - 0s 2ms/step - loss: 0.5580 - accuracy: 0.6552\n",
      "20/20 [==============================] - 0s 1ms/step\n",
      "5/5 [==============================] - 0s 1ms/step\n",
      "0.717948717948718\n"
     ]
    }
   ],
   "source": [
    "model = ImbalancedDNNBoost(dnn_loss='focal', dnn_focal_gamma=2.0)\n",
    "predictions = model.combo(X_train_diabetes, y_train_diabetes, X_test_diabetes, y_test_diabetes)\n",
    "\n",
    "accuracy = accuracy_score(y_test_diabetes, predictions)\n",
    "print(accuracy)\n",
    "diabetes_acc.append(accuracy)"
   ]
  },
  {
   "cell_type": "markdown",
   "metadata": {},
   "source": [
    "### Weighted | Focal ###"
   ]
  },
  {
   "cell_type": "code",
   "execution_count": 81,
   "metadata": {},
   "outputs": [
    {
     "name": "stdout",
     "output_type": "stream",
     "text": [
      "Epoch 1/10\n",
      "20/20 [==============================] - 1s 2ms/step - loss: 4.0119 - accuracy: 0.6536\n",
      "Epoch 2/10\n",
      "20/20 [==============================] - 0s 2ms/step - loss: 4.0018 - accuracy: 0.6536\n",
      "Epoch 3/10\n",
      "20/20 [==============================] - 0s 2ms/step - loss: 4.0010 - accuracy: 0.6536\n",
      "Epoch 4/10\n",
      "20/20 [==============================] - 0s 2ms/step - loss: 4.0006 - accuracy: 0.6536\n",
      "Epoch 5/10\n",
      "20/20 [==============================] - 0s 2ms/step - loss: 4.0004 - accuracy: 0.6536\n",
      "Epoch 6/10\n",
      "20/20 [==============================] - 0s 9ms/step - loss: 4.0002 - accuracy: 0.6536\n",
      "Epoch 7/10\n",
      "20/20 [==============================] - 0s 2ms/step - loss: 4.0001 - accuracy: 0.6536\n",
      "Epoch 8/10\n",
      "20/20 [==============================] - 0s 2ms/step - loss: 4.0001 - accuracy: 0.6536\n",
      "Epoch 9/10\n",
      "20/20 [==============================] - 0s 2ms/step - loss: 3.9999 - accuracy: 0.6536\n",
      "Epoch 10/10\n",
      "20/20 [==============================] - 0s 1ms/step - loss: 3.9998 - accuracy: 0.6536\n",
      "20/20 [==============================] - 0s 2ms/step\n",
      "5/5 [==============================] - 0s 1ms/step\n",
      "0.75\n"
     ]
    }
   ],
   "source": [
    "model = ImbalancedDNNBoost(dnn_loss='weighted', dnn_weighted_alpha=0.4, xgb_loss='focal', xgb_focal_gamma=2.0)\n",
    "predictions = model.combo(X_train_diabetes, y_train_diabetes, X_test_diabetes, y_test_diabetes)\n",
    "\n",
    "accuracy = accuracy_score(y_test_diabetes, predictions)\n",
    "print(accuracy)\n",
    "diabetes_acc.append(accuracy)"
   ]
  },
  {
   "cell_type": "markdown",
   "metadata": {},
   "source": [
    "### Focal | Weighted ###"
   ]
  },
  {
   "cell_type": "code",
   "execution_count": 82,
   "metadata": {},
   "outputs": [
    {
     "name": "stdout",
     "output_type": "stream",
     "text": [
      "Epoch 1/10\n",
      "20/20 [==============================] - 1s 2ms/step - loss: 0.5604 - accuracy: 0.6536\n",
      "Epoch 2/10\n",
      "20/20 [==============================] - 0s 2ms/step - loss: 0.5588 - accuracy: 0.6536\n",
      "Epoch 3/10\n",
      "20/20 [==============================] - 0s 2ms/step - loss: 0.5586 - accuracy: 0.6536\n",
      "Epoch 4/10\n",
      "20/20 [==============================] - 0s 2ms/step - loss: 0.5586 - accuracy: 0.6536\n",
      "Epoch 5/10\n",
      "20/20 [==============================] - 0s 2ms/step - loss: 0.5585 - accuracy: 0.6536\n",
      "Epoch 6/10\n",
      "20/20 [==============================] - 0s 2ms/step - loss: 0.5585 - accuracy: 0.6536\n",
      "Epoch 7/10\n",
      "20/20 [==============================] - 0s 2ms/step - loss: 0.5585 - accuracy: 0.6536\n",
      "Epoch 8/10\n",
      "20/20 [==============================] - 0s 2ms/step - loss: 0.5585 - accuracy: 0.6536\n",
      "Epoch 9/10\n",
      "20/20 [==============================] - 0s 2ms/step - loss: 0.5585 - accuracy: 0.6536\n",
      "Epoch 10/10\n",
      "20/20 [==============================] - 0s 2ms/step - loss: 0.5585 - accuracy: 0.6536\n",
      "20/20 [==============================] - 0s 1ms/step\n",
      "5/5 [==============================] - 0s 1ms/step\n",
      "0.21794871794871795\n"
     ]
    }
   ],
   "source": [
    "model = ImbalancedDNNBoost(dnn_loss='focal', dnn_focal_gamma=2.0, xgb_loss='weighted', xgb_weighted_alpha=0.4)\n",
    "predictions = model.combo(X_train_diabetes, y_train_diabetes, X_test_diabetes, y_test_diabetes)\n",
    "\n",
    "accuracy = accuracy_score(y_test_diabetes, predictions)\n",
    "print(accuracy)\n",
    "diabetes_acc.append(accuracy)"
   ]
  },
  {
   "cell_type": "markdown",
   "metadata": {},
   "source": [
    "## Parkinson ##"
   ]
  },
  {
   "cell_type": "code",
   "execution_count": 83,
   "metadata": {},
   "outputs": [],
   "source": [
    "df = pd.read_csv(\"./../../440-project-data/parkinson/pd_speech_features.csv\")\n",
    "\n",
    "X = df.iloc[:,:754]\n",
    "y = df['class']\n",
    "\n",
    "S = StandardScaler()\n",
    "X = S.fit_transform(X)"
   ]
  },
  {
   "cell_type": "code",
   "execution_count": 84,
   "metadata": {},
   "outputs": [],
   "source": [
    "# X_train_pd, X_test_pd, y_train_pd, y_test_pd = train_test_split(X, y, test_size=0.2, random_state=42)\n",
    "X_train_pd, X_test_pd, y_train_pd, y_test_pd = data.cv_split(X=X, y=y, folds=5, stratified=True)[0]"
   ]
  },
  {
   "cell_type": "markdown",
   "metadata": {},
   "source": [
    "### Default|Default ###"
   ]
  },
  {
   "cell_type": "code",
   "execution_count": 85,
   "metadata": {},
   "outputs": [
    {
     "name": "stdout",
     "output_type": "stream",
     "text": [
      "Epoch 1/10\n",
      "19/19 [==============================] - 1s 2ms/step - loss: 0.5371 - accuracy: 0.7401\n",
      "Epoch 2/10\n",
      "19/19 [==============================] - 0s 2ms/step - loss: 0.3821 - accuracy: 0.8228\n",
      "Epoch 3/10\n",
      "19/19 [==============================] - 0s 2ms/step - loss: 0.3214 - accuracy: 0.8576\n",
      "Epoch 4/10\n",
      "19/19 [==============================] - 0s 2ms/step - loss: 0.2744 - accuracy: 0.8725\n",
      "Epoch 5/10\n",
      "19/19 [==============================] - 0s 2ms/step - loss: 0.2364 - accuracy: 0.8957\n",
      "Epoch 6/10\n",
      "19/19 [==============================] - 0s 2ms/step - loss: 0.2062 - accuracy: 0.9073\n",
      "Epoch 7/10\n",
      "19/19 [==============================] - 0s 2ms/step - loss: 0.1796 - accuracy: 0.9172\n",
      "Epoch 8/10\n",
      "19/19 [==============================] - 0s 2ms/step - loss: 0.1581 - accuracy: 0.9238\n",
      "Epoch 9/10\n",
      "19/19 [==============================] - 0s 2ms/step - loss: 0.1374 - accuracy: 0.9404\n",
      "Epoch 10/10\n",
      "19/19 [==============================] - 0s 2ms/step - loss: 0.1219 - accuracy: 0.9470\n",
      "19/19 [==============================] - 0s 1ms/step\n",
      "5/5 [==============================] - 0s 1ms/step\n",
      "0.8421052631578947\n"
     ]
    }
   ],
   "source": [
    "model = ImbalancedDNNBoost()\n",
    "predictions = model.combo(X_train_pd, X_test_pd, y_train_pd, y_test_pd)\n",
    "\n",
    "accuracy = accuracy_score(y_test_pd, predictions)\n",
    "print(accuracy)\n",
    "pd_acc.append(accuracy)"
   ]
  },
  {
   "cell_type": "markdown",
   "metadata": {},
   "source": [
    "### Weighted|Weighted ###"
   ]
  },
  {
   "cell_type": "code",
   "execution_count": 86,
   "metadata": {},
   "outputs": [
    {
     "name": "stdout",
     "output_type": "stream",
     "text": [
      "Epoch 1/10\n"
     ]
    },
    {
     "name": "stdout",
     "output_type": "stream",
     "text": [
      "19/19 [==============================] - 1s 2ms/step - loss: 3.4543 - accuracy: 0.5695\n",
      "Epoch 2/10\n",
      "19/19 [==============================] - 0s 2ms/step - loss: 3.2115 - accuracy: 0.6672\n",
      "Epoch 3/10\n",
      "19/19 [==============================] - 0s 2ms/step - loss: 3.1136 - accuracy: 0.7219\n",
      "Epoch 4/10\n",
      "19/19 [==============================] - 0s 2ms/step - loss: 3.0407 - accuracy: 0.7732\n",
      "Epoch 5/10\n",
      "19/19 [==============================] - 0s 2ms/step - loss: 2.9759 - accuracy: 0.8046\n",
      "Epoch 6/10\n",
      "19/19 [==============================] - 0s 2ms/step - loss: 2.9121 - accuracy: 0.8427\n",
      "Epoch 7/10\n",
      "19/19 [==============================] - 0s 2ms/step - loss: 2.8494 - accuracy: 0.8675\n",
      "Epoch 8/10\n",
      "19/19 [==============================] - 0s 2ms/step - loss: 2.7905 - accuracy: 0.9007\n",
      "Epoch 9/10\n",
      "19/19 [==============================] - 0s 2ms/step - loss: 2.7410 - accuracy: 0.9156\n",
      "Epoch 10/10\n",
      "19/19 [==============================] - 0s 2ms/step - loss: 2.6951 - accuracy: 0.9404\n",
      "19/19 [==============================] - 0s 1ms/step\n",
      "5/5 [==============================] - 0s 1ms/step\n",
      "0.05263157894736842\n"
     ]
    }
   ],
   "source": [
    "model = ImbalancedDNNBoost(dnn_loss='weighted', dnn_weighted_alpha=0.4, xgb_loss='weighted', xgb_weighted_alpha=0.4)\n",
    "predictions = model.combo(X_train_pd, X_test_pd, y_train_pd, y_test_pd)\n",
    "\n",
    "accuracy = accuracy_score(y_test_pd, predictions)\n",
    "print(accuracy)\n",
    "pd_acc.append(accuracy)"
   ]
  },
  {
   "cell_type": "markdown",
   "metadata": {},
   "source": [
    "### Focal|Focal ###"
   ]
  },
  {
   "cell_type": "code",
   "execution_count": 87,
   "metadata": {},
   "outputs": [
    {
     "name": "stdout",
     "output_type": "stream",
     "text": [
      "Epoch 1/10\n",
      "19/19 [==============================] - 1s 2ms/step - loss: 0.6233 - accuracy: 0.7533\n",
      "Epoch 2/10\n",
      "19/19 [==============================] - 0s 7ms/step - loss: 0.5430 - accuracy: 0.7897\n",
      "Epoch 3/10\n",
      "19/19 [==============================] - 0s 2ms/step - loss: 0.5158 - accuracy: 0.8030\n",
      "Epoch 4/10\n",
      "19/19 [==============================] - 0s 2ms/step - loss: 0.4987 - accuracy: 0.7914\n",
      "Epoch 5/10\n",
      "19/19 [==============================] - 0s 2ms/step - loss: 0.4808 - accuracy: 0.7897\n",
      "Epoch 6/10\n",
      "19/19 [==============================] - 0s 2ms/step - loss: 0.4609 - accuracy: 0.7848\n",
      "Epoch 7/10\n",
      "19/19 [==============================] - 0s 2ms/step - loss: 0.4400 - accuracy: 0.7848\n",
      "Epoch 8/10\n",
      "19/19 [==============================] - 0s 2ms/step - loss: 0.4210 - accuracy: 0.7848\n",
      "Epoch 9/10\n",
      "19/19 [==============================] - 0s 2ms/step - loss: 0.4052 - accuracy: 0.7930\n",
      "Epoch 10/10\n",
      "19/19 [==============================] - 0s 2ms/step - loss: 0.3947 - accuracy: 0.8245\n",
      "19/19 [==============================] - 0s 1ms/step\n",
      "5/5 [==============================] - 0s 1ms/step\n",
      "0.7894736842105263\n"
     ]
    }
   ],
   "source": [
    "model = ImbalancedDNNBoost(dnn_loss='focal', dnn_focal_gamma=2.0, xgb_loss='focal', xgb_focal_gamma=2.0)\n",
    "predictions = model.combo(X_train_pd, X_test_pd, y_train_pd, y_test_pd)\n",
    "\n",
    "accuracy = accuracy_score(y_test_pd, predictions)\n",
    "print(accuracy)\n",
    "pd_acc.append(accuracy)"
   ]
  },
  {
   "cell_type": "markdown",
   "metadata": {},
   "source": [
    "### Default|Weighted ###"
   ]
  },
  {
   "cell_type": "code",
   "execution_count": 88,
   "metadata": {},
   "outputs": [
    {
     "name": "stdout",
     "output_type": "stream",
     "text": [
      "Epoch 1/10\n",
      "19/19 [==============================] - 1s 3ms/step - loss: 0.6149 - accuracy: 0.6755\n",
      "Epoch 2/10\n",
      "19/19 [==============================] - 0s 4ms/step - loss: 0.4437 - accuracy: 0.8477\n",
      "Epoch 3/10\n",
      "19/19 [==============================] - 0s 3ms/step - loss: 0.3798 - accuracy: 0.8709\n",
      "Epoch 4/10\n",
      "19/19 [==============================] - 0s 2ms/step - loss: 0.3359 - accuracy: 0.8891\n",
      "Epoch 5/10\n",
      "19/19 [==============================] - 0s 3ms/step - loss: 0.2967 - accuracy: 0.8974\n",
      "Epoch 6/10\n",
      "19/19 [==============================] - 0s 2ms/step - loss: 0.2611 - accuracy: 0.9073\n",
      "Epoch 7/10\n",
      "19/19 [==============================] - 0s 6ms/step - loss: 0.2261 - accuracy: 0.9205\n",
      "Epoch 8/10\n",
      "19/19 [==============================] - 0s 3ms/step - loss: 0.1969 - accuracy: 0.9288\n",
      "Epoch 9/10\n",
      "19/19 [==============================] - 0s 2ms/step - loss: 0.1695 - accuracy: 0.9387\n",
      "Epoch 10/10\n",
      "19/19 [==============================] - 0s 2ms/step - loss: 0.1457 - accuracy: 0.9454\n",
      "19/19 [==============================] - 0s 1ms/step\n",
      "5/5 [==============================] - 0s 1ms/step\n",
      "0.07236842105263158\n"
     ]
    }
   ],
   "source": [
    "model = ImbalancedDNNBoost(xgb_loss='weighted', xgb_weighted_alpha=0.4)\n",
    "predictions = model.combo(X_train_pd, X_test_pd, y_train_pd, y_test_pd)\n",
    "\n",
    "accuracy = accuracy_score(y_test_pd, predictions)\n",
    "print(accuracy)\n",
    "pd_acc.append(accuracy)"
   ]
  },
  {
   "cell_type": "markdown",
   "metadata": {},
   "source": [
    "### Default|Focal ###"
   ]
  },
  {
   "cell_type": "code",
   "execution_count": 89,
   "metadata": {},
   "outputs": [
    {
     "name": "stdout",
     "output_type": "stream",
     "text": [
      "Epoch 1/10\n",
      "19/19 [==============================] - 1s 2ms/step - loss: 0.5575 - accuracy: 0.7368\n",
      "Epoch 2/10\n",
      "19/19 [==============================] - 0s 3ms/step - loss: 0.3996 - accuracy: 0.8228\n",
      "Epoch 3/10\n",
      "19/19 [==============================] - 0s 3ms/step - loss: 0.3394 - accuracy: 0.8626\n",
      "Epoch 4/10\n",
      "19/19 [==============================] - 0s 2ms/step - loss: 0.2917 - accuracy: 0.8808\n",
      "Epoch 5/10\n",
      "19/19 [==============================] - 0s 2ms/step - loss: 0.2532 - accuracy: 0.8825\n",
      "Epoch 6/10\n",
      "19/19 [==============================] - 0s 2ms/step - loss: 0.2130 - accuracy: 0.9007\n",
      "Epoch 7/10\n",
      "19/19 [==============================] - 0s 2ms/step - loss: 0.1836 - accuracy: 0.9205\n",
      "Epoch 8/10\n",
      "19/19 [==============================] - 0s 2ms/step - loss: 0.1599 - accuracy: 0.9288\n",
      "Epoch 9/10\n",
      "19/19 [==============================] - 0s 2ms/step - loss: 0.1398 - accuracy: 0.9371\n",
      "Epoch 10/10\n",
      "19/19 [==============================] - 0s 2ms/step - loss: 0.1236 - accuracy: 0.9470\n",
      "19/19 [==============================] - 0s 1ms/step\n",
      "5/5 [==============================] - 0s 2ms/step\n",
      "0.8421052631578947\n"
     ]
    }
   ],
   "source": [
    "model = ImbalancedDNNBoost(xgb_loss='focal', xgb_focal_gamma=2.0)\n",
    "predictions = model.combo(X_train_pd, X_test_pd, y_train_pd, y_test_pd)\n",
    "\n",
    "accuracy = accuracy_score(y_test_pd, predictions)\n",
    "print(accuracy)\n",
    "pd_acc.append(accuracy)"
   ]
  },
  {
   "cell_type": "markdown",
   "metadata": {},
   "source": [
    "### Weighted|Default ###"
   ]
  },
  {
   "cell_type": "code",
   "execution_count": 90,
   "metadata": {},
   "outputs": [
    {
     "name": "stdout",
     "output_type": "stream",
     "text": [
      "Epoch 1/10\n",
      "19/19 [==============================] - 1s 3ms/step - loss: 3.5148 - accuracy: 0.5315\n",
      "Epoch 2/10\n",
      "19/19 [==============================] - 0s 2ms/step - loss: 3.2000 - accuracy: 0.6589\n",
      "Epoch 3/10\n",
      "19/19 [==============================] - 0s 3ms/step - loss: 3.0795 - accuracy: 0.6987\n",
      "Epoch 4/10\n",
      "19/19 [==============================] - 0s 2ms/step - loss: 2.9899 - accuracy: 0.7401\n",
      "Epoch 5/10\n",
      "19/19 [==============================] - 0s 2ms/step - loss: 2.9219 - accuracy: 0.7831\n",
      "Epoch 6/10\n",
      "19/19 [==============================] - 0s 2ms/step - loss: 2.8616 - accuracy: 0.8129\n",
      "Epoch 7/10\n",
      "19/19 [==============================] - 0s 2ms/step - loss: 2.8077 - accuracy: 0.8394\n",
      "Epoch 8/10\n",
      "19/19 [==============================] - 0s 2ms/step - loss: 2.7599 - accuracy: 0.8576\n",
      "Epoch 9/10\n",
      "19/19 [==============================] - 0s 2ms/step - loss: 2.7185 - accuracy: 0.8874\n",
      "Epoch 10/10\n",
      "19/19 [==============================] - 0s 2ms/step - loss: 2.6774 - accuracy: 0.9139\n",
      "19/19 [==============================] - 0s 1ms/step\n",
      "5/5 [==============================] - 0s 2ms/step\n",
      "0.8223684210526315\n"
     ]
    }
   ],
   "source": [
    "model = ImbalancedDNNBoost(dnn_loss='weighted', dnn_weighted_alpha=0.4)\n",
    "predictions = model.combo(X_train_pd, X_test_pd, y_train_pd, y_test_pd)\n",
    "\n",
    "accuracy = accuracy_score(y_test_pd, predictions)\n",
    "print(accuracy)\n",
    "pd_acc.append(accuracy)"
   ]
  },
  {
   "cell_type": "markdown",
   "metadata": {},
   "source": [
    "### Focal|Default ###"
   ]
  },
  {
   "cell_type": "code",
   "execution_count": 91,
   "metadata": {},
   "outputs": [
    {
     "name": "stdout",
     "output_type": "stream",
     "text": [
      "Epoch 1/10\n",
      "19/19 [==============================] - 2s 3ms/step - loss: 0.5523 - accuracy: 0.7599\n",
      "Epoch 2/10\n",
      "19/19 [==============================] - 0s 2ms/step - loss: 0.4969 - accuracy: 0.7334\n",
      "Epoch 3/10\n",
      "19/19 [==============================] - 0s 2ms/step - loss: 0.4573 - accuracy: 0.7351\n",
      "Epoch 4/10\n",
      "19/19 [==============================] - 0s 2ms/step - loss: 0.4328 - accuracy: 0.7401\n",
      "Epoch 5/10\n",
      "19/19 [==============================] - 0s 2ms/step - loss: 0.4194 - accuracy: 0.7616\n",
      "Epoch 6/10\n",
      "19/19 [==============================] - 0s 2ms/step - loss: 0.4100 - accuracy: 0.7881\n",
      "Epoch 7/10\n",
      "19/19 [==============================] - 0s 2ms/step - loss: 0.4020 - accuracy: 0.8195\n",
      "Epoch 8/10\n",
      "19/19 [==============================] - 0s 2ms/step - loss: 0.3927 - accuracy: 0.8361\n",
      "Epoch 9/10\n",
      "19/19 [==============================] - 0s 2ms/step - loss: 0.3845 - accuracy: 0.8609\n",
      "Epoch 10/10\n",
      "19/19 [==============================] - 0s 2ms/step - loss: 0.3755 - accuracy: 0.8891\n",
      "19/19 [==============================] - 0s 2ms/step\n",
      "5/5 [==============================] - 0s 1ms/step\n",
      "0.8223684210526315\n"
     ]
    }
   ],
   "source": [
    "model = ImbalancedDNNBoost(dnn_loss='focal', dnn_focal_gamma=2.0)\n",
    "predictions = model.combo(X_train_pd, X_test_pd, y_train_pd, y_test_pd)\n",
    "\n",
    "accuracy = accuracy_score(y_test_pd, predictions)\n",
    "print(accuracy)\n",
    "pd_acc.append(accuracy)"
   ]
  },
  {
   "cell_type": "markdown",
   "metadata": {},
   "source": [
    "### Weighted|Focal ###"
   ]
  },
  {
   "cell_type": "code",
   "execution_count": 92,
   "metadata": {},
   "outputs": [
    {
     "name": "stdout",
     "output_type": "stream",
     "text": [
      "Epoch 1/10\n",
      "19/19 [==============================] - 2s 3ms/step - loss: 0.6085 - accuracy: 0.7517\n",
      "Epoch 2/10\n",
      "19/19 [==============================] - 0s 2ms/step - loss: 0.5383 - accuracy: 0.7815\n",
      "Epoch 3/10\n",
      "19/19 [==============================] - 0s 3ms/step - loss: 0.5151 - accuracy: 0.7980\n",
      "Epoch 4/10\n",
      "19/19 [==============================] - 0s 2ms/step - loss: 0.4998 - accuracy: 0.8129\n",
      "Epoch 5/10\n",
      "19/19 [==============================] - 0s 2ms/step - loss: 0.4890 - accuracy: 0.8311\n",
      "Epoch 6/10\n",
      "19/19 [==============================] - 0s 2ms/step - loss: 0.4806 - accuracy: 0.8411\n",
      "Epoch 7/10\n",
      "19/19 [==============================] - 0s 2ms/step - loss: 0.4702 - accuracy: 0.8526\n",
      "Epoch 8/10\n",
      "19/19 [==============================] - 0s 2ms/step - loss: 0.4540 - accuracy: 0.8510\n",
      "Epoch 9/10\n",
      "19/19 [==============================] - 0s 2ms/step - loss: 0.4273 - accuracy: 0.8361\n",
      "Epoch 10/10\n",
      "19/19 [==============================] - 0s 2ms/step - loss: 0.4087 - accuracy: 0.8344\n",
      "19/19 [==============================] - 0s 1ms/step\n",
      "5/5 [==============================] - 0s 1ms/step\n",
      "0.8289473684210527\n"
     ]
    }
   ],
   "source": [
    "odel = ImbalancedDNNBoost(dnn_loss='weighted', dnn_weighted_alpha=0.4, xgb_loss='focal', xgb_focal_gamma=2.0)\n",
    "predictions = model.combo(X_train_pd, X_test_pd, y_train_pd, y_test_pd)\n",
    "\n",
    "accuracy = accuracy_score(y_test_pd, predictions)\n",
    "print(accuracy)\n",
    "pd_acc.append(accuracy)"
   ]
  },
  {
   "cell_type": "markdown",
   "metadata": {},
   "source": [
    "### Focal|Weighted ###"
   ]
  },
  {
   "cell_type": "code",
   "execution_count": 93,
   "metadata": {},
   "outputs": [
    {
     "name": "stdout",
     "output_type": "stream",
     "text": [
      "Epoch 1/10\n",
      "19/19 [==============================] - 2s 2ms/step - loss: 0.4736 - accuracy: 0.5315\n",
      "Epoch 2/10\n",
      "19/19 [==============================] - 0s 2ms/step - loss: 0.4406 - accuracy: 0.6490\n",
      "Epoch 3/10\n",
      "19/19 [==============================] - 0s 2ms/step - loss: 0.4223 - accuracy: 0.6755\n",
      "Epoch 4/10\n",
      "19/19 [==============================] - 0s 2ms/step - loss: 0.4073 - accuracy: 0.7334\n",
      "Epoch 5/10\n",
      "19/19 [==============================] - 0s 2ms/step - loss: 0.3957 - accuracy: 0.7848\n",
      "Epoch 6/10\n",
      "19/19 [==============================] - 0s 2ms/step - loss: 0.3844 - accuracy: 0.8046\n",
      "Epoch 7/10\n",
      "19/19 [==============================] - 0s 3ms/step - loss: 0.3730 - accuracy: 0.8659\n",
      "Epoch 8/10\n",
      "19/19 [==============================] - 0s 2ms/step - loss: 0.3613 - accuracy: 0.8974\n",
      "Epoch 9/10\n",
      "19/19 [==============================] - 0s 2ms/step - loss: 0.3514 - accuracy: 0.9222\n",
      "Epoch 10/10\n",
      "19/19 [==============================] - 0s 2ms/step - loss: 0.3447 - accuracy: 0.9354\n",
      "19/19 [==============================] - 0s 1ms/step\n",
      "5/5 [==============================] - 0s 2ms/step\n",
      "0.013157894736842105\n"
     ]
    }
   ],
   "source": [
    "model = ImbalancedDNNBoost(dnn_loss='focal', dnn_focal_gamma=2.0, xgb_loss='weighted', xgb_weighted_alpha=0.4)\n",
    "predictions = model.combo(X_train_pd, X_test_pd, y_train_pd, y_test_pd)\n",
    "\n",
    "accuracy = accuracy_score(y_test_pd, predictions)\n",
    "print(accuracy)\n",
    "pd_acc.append(accuracy)"
   ]
  },
  {
   "cell_type": "code",
   "execution_count": 101,
   "metadata": {},
   "outputs": [
    {
     "name": "stdout",
     "output_type": "stream",
     "text": [
      "[81720430.10752688, 38709677.41935483, 61290322.58064517, 34946236.55913979, 83870967.74193549, 82795698.92473118, 82258064.51612903, 81182795.69892472, 42473118.2795699]\n"
     ]
    },
    {
     "data": {
      "image/png": "[encoded data removed]",
      "text/plain": [
       "<Figure size 640x480 with 1 Axes>"
      ]
     },
     "metadata": {},
     "output_type": "display_data"
    }
   ],
   "source": [
    "heart_acc = [x * 100 for x in heart_acc]\n",
    "\n",
    "labels = ['Default|Default', 'Weighted|Weighted', 'Focal|Focal',\n",
    "          'Default|Weighted', 'Default|Focal', 'Weighted|Default', \n",
    "          'Focal|Default', 'Weighted|Focal', 'Focal|Weighted']\n",
    "\n",
    "colors = [(0.3, 0.6, 0.9), (0.9, 0.4, 0.5), (0.5, 0.7, 0.4), (0.8, 0.7, 0.1), (0.6, 0.4, 0.8),\n",
    "                (0.9, 0.6, 0.3), (0.4, 0.8, 0.7), (0.8, 0.5, 0.6), (0.3, 0.7, 0.6)]\n",
    "\n",
    "\n",
    "x = range(len(heart_acc))\n",
    "print(heart_acc)\n",
    "\n",
    "plt.bar(x, heart_acc, color=colors)\n",
    "plt.xlabel('Models')\n",
    "plt.ylabel('Accuracy (%)')\n",
    "plt.title('Accuracy Comparison of DNN-Boost Heart')\n",
    "\n",
    "plt.xticks(x, labels, rotation=45, ha='right') \n",
    "plt.show()"
   ]
  },
  {
   "cell_type": "code",
   "execution_count": 95,
   "metadata": {},
   "outputs": [
    {
     "name": "stdout",
     "output_type": "stream",
     "text": [
      "[61.36363636363637, 43.18181818181818, 61.36363636363637, 52.27272727272727, 65.9090909090909, 61.36363636363637, 63.63636363636363, 61.36363636363637, 40.909090909090914]\n"
     ]
    },
    {
     "data": {
      "image/png": "[encoded data removed]",
      "text/plain": [
       "<Figure size 640x480 with 1 Axes>"
      ]
     },
     "metadata": {},
     "output_type": "display_data"
    }
   ],
   "source": [
    "sonar_acc = [x * 100 for x in sonar_acc]\n",
    "\n",
    "labels = ['Default|Default', 'Weighted|Weighted', 'Focal|Focal',\n",
    "          'Default|Weighted', 'Default|Focal', 'Weighted|Default', \n",
    "          'Focal|Default', 'Weighted|Focal', 'Focal|Weighted']\n",
    "\n",
    "colors = [(0.3, 0.6, 0.9), (0.9, 0.4, 0.5), (0.5, 0.7, 0.4), (0.8, 0.7, 0.1), (0.6, 0.4, 0.8),\n",
    "                (0.9, 0.6, 0.3), (0.4, 0.8, 0.7), (0.8, 0.5, 0.6), (0.3, 0.7, 0.6)]\n",
    "\n",
    "\n",
    "x = range(len(sonar_acc))\n",
    "print(sonar_acc)\n",
    "plt.bar(x, sonar_acc, color=colors)\n",
    "plt.xlabel('Models')\n",
    "plt.ylabel('Accuracy (%)')\n",
    "plt.title('Accuracy Comparison of DNN-Boost Sonar')\n",
    "\n",
    "plt.xticks(x, labels, rotation=45, ha='right') \n",
    "plt.show()"
   ]
  },
  {
   "cell_type": "code",
   "execution_count": 96,
   "metadata": {},
   "outputs": [
    {
     "name": "stdout",
     "output_type": "stream",
     "text": [
      "[72.43589743589743, 24.358974358974358, 74.35897435897436, 26.282051282051285, 76.28205128205127, 68.58974358974359, 71.7948717948718, 75.0, 21.794871794871796]\n"
     ]
    },
    {
     "data": {
      "image/png": "[encoded data removed]",
      "text/plain": [
       "<Figure size 640x480 with 1 Axes>"
      ]
     },
     "metadata": {},
     "output_type": "display_data"
    }
   ],
   "source": [
    "diabetes_acc = [x * 100 for x in diabetes_acc]\n",
    "\n",
    "labels = ['Default|Default', 'Weighted|Weighted', 'Focal|Focal',\n",
    "          'Default|Weighted', 'Default|Focal', 'Weighted|Default', \n",
    "          'Focal|Default', 'Weighted|Focal', 'Focal|Weighted']\n",
    "\n",
    "colors = [(0.3, 0.6, 0.9), (0.9, 0.4, 0.5), (0.5, 0.7, 0.4), (0.8, 0.7, 0.1), (0.6, 0.4, 0.8),\n",
    "                (0.9, 0.6, 0.3), (0.4, 0.8, 0.7), (0.8, 0.5, 0.6), (0.3, 0.7, 0.6)]\n",
    "\n",
    "\n",
    "x = range(len(diabetes_acc))\n",
    "print(diabetes_acc)\n",
    "\n",
    "plt.bar(x, diabetes_acc, color=colors)\n",
    "plt.xlabel('Models')\n",
    "plt.ylabel('Accuracy (%)')\n",
    "plt.title('Accuracy Comparison of DNN-Boost Diabetes')\n",
    "\n",
    "plt.xticks(x, labels, rotation=45, ha='right') \n",
    "plt.show()"
   ]
  },
  {
   "cell_type": "code",
   "execution_count": 97,
   "metadata": {},
   "outputs": [
    {
     "name": "stdout",
     "output_type": "stream",
     "text": [
      "[84.21052631578947, 5.263157894736842, 78.94736842105263, 7.236842105263158, 84.21052631578947, 82.23684210526315, 82.23684210526315, 82.89473684210526, 1.3157894736842104]\n"
     ]
    },
    {
     "data": {
      "image/png": "[encoded data removed]",
      "text/plain": [
       "<Figure size 640x480 with 1 Axes>"
      ]
     },
     "metadata": {},
     "output_type": "display_data"
    }
   ],
   "source": [
    "pd_acc = [x * 100 for x in pd_acc]\n",
    "\n",
    "labels = ['Default|Default', 'Weighted|Weighted', 'Focal|Focal',\n",
    "          'Default|Weighted', 'Default|Focal', 'Weighted|Default', \n",
    "          'Focal|Default', 'Weighted|Focal', 'Focal|Weighted']\n",
    "\n",
    "colors = [(0.3, 0.6, 0.9), (0.9, 0.4, 0.5), (0.5, 0.7, 0.4), (0.8, 0.7, 0.1), (0.6, 0.4, 0.8),\n",
    "                (0.9, 0.6, 0.3), (0.4, 0.8, 0.7), (0.8, 0.5, 0.6), (0.3, 0.7, 0.6)]\n",
    "\n",
    "print(pd_acc)\n",
    "x = range(len(pd_acc))\n",
    "\n",
    "plt.bar(x, pd_acc, color=colors)\n",
    "plt.xlabel('Models')\n",
    "plt.ylabel('Accuracy (%)')\n",
    "plt.title('Accuracy Comparison of DNN-Boost Parkinson')\n",
    "\n",
    "plt.xticks(x, labels, rotation=45, ha='right') \n",
    "plt.show()"
   ]
  }
 ],
 "metadata": {
  "kernelspec": {
   "display_name": "Python 3",
   "language": "python",
   "name": "python3"
  },
  "language_info": {
   "codemirror_mode": {
    "name": "ipython",
    "version": 3
   },
   "file_extension": ".py",
   "mimetype": "text/x-python",
   "name": "python",
   "nbconvert_exporter": "python",
   "pygments_lexer": "ipython3",
   "version": "3.11.4"
  }
 },
 "nbformat": 4,
 "nbformat_minor": 2
}
